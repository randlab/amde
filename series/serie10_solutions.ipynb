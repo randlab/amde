{
 "cells": [
  {
   "cell_type": "markdown",
   "metadata": {},
   "source": [
    "# Série 10 - Exercices - Solutions\n",
    "\n",
    "L'identification de paramètres à partir de données est une des tâches très fréquentes en sciences. Suivant la nature du modèle, différentes méthodes doivent être employées.\n",
    "\n",
    "Le but de cette série d'exercice est de vous rendre capable d'appliquer les techniques de régression linéaires et non linéaire sur de vraies données."
   ]
  },
  {
   "cell_type": "markdown",
   "metadata": {},
   "source": [
    "**Exercice 1**  - Chercher la droite de régression\n",
    "\n",
    "Soit le jeu de donnée ci-dessous. \n",
    "\n",
    "**a)** Faire le graphe de $y$ en fonction de $x$ permettant de visualiser les points de données."
   ]
  },
  {
   "cell_type": "code",
   "execution_count": 1,
   "metadata": {},
   "outputs": [
    {
     "data": {
      "image/png": "[encoded data removed]",
      "text/plain": [
       "<Figure size 432x288 with 1 Axes>"
      ]
     },
     "metadata": {
      "needs_background": "light"
     },
     "output_type": "display_data"
    }
   ],
   "source": [
    "import numpy as np\n",
    "import matplotlib.pyplot as plt\n",
    "\n",
    "x = np.array([4.5, 6., 7.5, 9., 10.5])\n",
    "y = np.array([20, 23, 24, 28, 32])\n",
    "\n",
    "plt.plot(x,y,'o')\n",
    "plt.xlabel('x', size=14)\n",
    "plt.ylabel('y', size=14)\n",
    "plt.show()"
   ]
  },
  {
   "cell_type": "markdown",
   "metadata": {},
   "source": [
    "**b)** Construisez la matrice dont la première colonne contient les valeurs de $x$ et la deuxième des 1.\n",
    "\n",
    "$${\\bf G} = \\left[ \\begin{array}{cc} 4.5 & 1\\\\ 6. & 1\\\\ 7.5  & 1\\\\ 9. & 1\\\\ 10.5 & 1\\end{array}\\right] $$"
   ]
  },
  {
   "cell_type": "code",
   "execution_count": 2,
   "metadata": {},
   "outputs": [
    {
     "name": "stdout",
     "output_type": "stream",
     "text": [
      "[[ 4.5  1. ]\n",
      " [ 6.   1. ]\n",
      " [ 7.5  1. ]\n",
      " [ 9.   1. ]\n",
      " [10.5  1. ]]\n"
     ]
    }
   ],
   "source": [
    "N = len(x)\n",
    "G = np.ones( (N,2) )\n",
    "G[:,0] = x\n",
    "print(G)"
   ]
  },
  {
   "cell_type": "markdown",
   "metadata": {},
   "source": [
    "**c)** Estimer les paramètres de la droite avec\n",
    "\n",
    "$${\\bf p} = \\left( {\\bf G^T} {\\bf G} \\right) ^{-1} {\\bf G^T} {\\bf y}$$\n",
    "\n",
    "Puis faire le graphe pour comparer le modèle avec les données."
   ]
  },
  {
   "cell_type": "code",
   "execution_count": 3,
   "metadata": {},
   "outputs": [
    {
     "name": "stdout",
     "output_type": "stream",
     "text": [
      "MSE= 0.6199999999999993\n"
     ]
    },
    {
     "data": {
      "image/png": "[encoded data removed]",
      "text/plain": [
       "<Figure size 432x288 with 1 Axes>"
      ]
     },
     "metadata": {
      "needs_background": "light"
     },
     "output_type": "display_data"
    }
   ],
   "source": [
    "p = np.linalg.inv( G.T @ G ) @  G.T @ y\n",
    "yc = G @ p\n",
    "MSE = np.mean( (yc - y)**2 )\n",
    "plt.plot(x,y,'o');\n",
    "plt.plot(x,yc,'-');\n",
    "print(\"MSE=\", MSE)"
   ]
  },
  {
   "cell_type": "markdown",
   "metadata": {},
   "source": [
    "**Exercice 2** - Ecrire une fonction qui encapsule vos calculs\n",
    "\n",
    "L'idée est que cette fonction vous permette d'analyser très rapidement n'importe quel jeu de donnée. \n",
    "Le prototype de la fonction est donné ci-dessous. Remplir la partie manquante, c'est à dire celle qui fait vraiment le calcul.\n",
    "\n",
    "Une fois la fonction programmée, vérifier que si vous l'appliquez aux données de l'exercice 2, elle donne les bons résultats."
   ]
  },
  {
   "cell_type": "code",
   "execution_count": 4,
   "metadata": {},
   "outputs": [],
   "source": [
    "def fit_line(x,y):\n",
    "    \"\"\"\n",
    "    Computes the least-squares straight line on a data set,\n",
    "    and plots it with the data for rapid visual control.\n",
    "\n",
    "    Inputs:\n",
    "      x (numpy array): The X data values \n",
    "      y (numpy array): The Y data values\n",
    "\n",
    "    Returns:\n",
    "      p (numpy array): p=[a, b] Slope and intercept of the straight line  \n",
    "    \"\"\"\n",
    "    \n",
    "    N = len(x)\n",
    "    G = np.ones( (N,2) )\n",
    "    G[:,0] = x\n",
    "    p = np.linalg.inv( G.T @ G ) @  G.T @ y\n",
    "    yc = G @ p\n",
    "    MSE = np.mean( (yc - y)**2 )\n",
    "    \n",
    "    plt.plot(x,y,'o');\n",
    "    plt.plot(x,yc,'-');\n",
    "    \n",
    "    print(\"MSE=\", MSE)\n",
    "    \n",
    "    return p"
   ]
  },
  {
   "cell_type": "code",
   "execution_count": 5,
   "metadata": {},
   "outputs": [
    {
     "name": "stdout",
     "output_type": "stream",
     "text": [
      "MSE= 0.6199999999999993\n"
     ]
    },
    {
     "data": {
      "text/plain": [
       "array([ 1.93333333, 10.9       ])"
      ]
     },
     "execution_count": 5,
     "metadata": {},
     "output_type": "execute_result"
    },
    {
     "data": {
      "image/png": "[encoded data removed]",
      "text/plain": [
       "<Figure size 432x288 with 1 Axes>"
      ]
     },
     "metadata": {
      "needs_background": "light"
     },
     "output_type": "display_data"
    }
   ],
   "source": [
    "fit_line(x,y)"
   ]
  },
  {
   "cell_type": "markdown",
   "metadata": {},
   "source": [
    "**Exercice 3** - Age du système solaire\n",
    "\n",
    "Le fichier `eucrites.txt` contient des données issues de l'analyse chimique de météorites (Eucrites) du système solaire. La première colonne contient le rapport isotopique 87Rb/86Sr des échantillons (87Rb est l'élèment père), alors que la deuxième colonne contient le rapport 87Sr/86Sr (avec 87Sr l'élément fils).\n",
    "\n",
    "A partir de la pente de la ligne passant à travers ces données, estimer un âge minimum pour le système solaire, sachant que la constante de décroissance radioactive pour ces données est estimée à \n",
    "\n",
    "$$\\lambda = 1.393 \\times 10^{-11} an^{-1}$$\n",
    "\n",
    "On vous rappelle aussi que l'âge  s'obtient en \n",
    "\n",
    "$$t =\\frac{ \\log( a + 1)}{\\lambda} $$\n",
    "\n",
    "avec $a$ la pente de la droite et log représente le logarithme népérien."
   ]
  },
  {
   "cell_type": "code",
   "execution_count": 7,
   "metadata": {},
   "outputs": [
    {
     "name": "stdout",
     "output_type": "stream",
     "text": [
      "MSE= 6.437605783789232e-10\n"
     ]
    },
    {
     "data": {
      "image/png": "[encoded data removed]",
      "text/plain": [
       "<Figure size 432x288 with 1 Axes>"
      ]
     },
     "metadata": {
      "needs_background": "light"
     },
     "output_type": "display_data"
    },
    {
     "name": "stdout",
     "output_type": "stream",
     "text": [
      "Age: 4.54 milliards d'années\n"
     ]
    }
   ],
   "source": [
    "data = np.loadtxt('data/eucrites.txt')\n",
    "r, s = data[:,0], data[:,1]\n",
    "\n",
    "p = fit_line(r, s)\n",
    "plt.xlabel('87Rb/86Sr')\n",
    "plt.ylabel('87Sr/86Sr')\n",
    "plt.title(\"Datation d'Eucrites\")\n",
    "plt.show()\n",
    "\n",
    "l = 1.393e-11\n",
    "t = np.log(p[0]+1)/l / 1e9\n",
    "\n",
    "print(f\"Age: {t:4.2f} milliards d'années\")"
   ]
  },
  {
   "cell_type": "markdown",
   "metadata": {},
   "source": [
    "**Exercice 4** - Polynôme d'ordre 2\n",
    "\n",
    "Recopier la fonction `fit_line` et renomer là en `fit_parabola`. Modifier son contenu pour qu'elle ajuste un polynome d'ordre 2 sur les données. \n",
    "\n",
    "Appliquez cette nouvelle fonction aux données du premier exercice. Combien vallent les paramètres ? Quelle est la valeur de l'erreur quadratique moyenne ? "
   ]
  },
  {
   "cell_type": "code",
   "execution_count": 8,
   "metadata": {},
   "outputs": [
    {
     "name": "stdout",
     "output_type": "stream",
     "text": [
      "MSE= 0.26285714285714284\n"
     ]
    },
    {
     "data": {
      "text/plain": [
       "array([ 0.15873016, -0.44761905, 19.11428571])"
      ]
     },
     "execution_count": 8,
     "metadata": {},
     "output_type": "execute_result"
    },
    {
     "data": {
      "image/png": "[encoded data removed]",
      "text/plain": [
       "<Figure size 432x288 with 1 Axes>"
      ]
     },
     "metadata": {
      "needs_background": "light"
     },
     "output_type": "display_data"
    }
   ],
   "source": [
    "def fit_parabola(x,y):\n",
    "    \"\"\"\n",
    "    Computes the least-squares polynom of order 2 on a data set,\n",
    "    and plots it with the data for rapid visual control.\n",
    "\n",
    "    Inputs:\n",
    "      x (numpy array): The X data values \n",
    "      y (numpy array): The Y data values\n",
    "\n",
    "    Returns:\n",
    "      p (numpy array): p=[a, b, c]  \n",
    "    \"\"\"\n",
    "    \n",
    "    N = len(x)\n",
    "    G = np.ones( (N,3) )\n",
    "    G[:,0] = x**2\n",
    "    G[:,1] = x\n",
    "    p = np.linalg.inv( G.T @ G ) @  G.T @ y\n",
    "    yc = G @ p\n",
    "    MSE = np.mean( (yc - y)**2 )\n",
    "    \n",
    "    plt.plot(x,y,'o');\n",
    "    plt.plot(x,yc,'-');\n",
    "    \n",
    "    print(\"MSE=\", MSE)\n",
    "    \n",
    "    return p\n",
    "\n",
    "fit_parabola(x,y)"
   ]
  },
  {
   "cell_type": "markdown",
   "metadata": {},
   "source": [
    "**Exercice 5** - Altération de galets\n",
    "\n",
    "Une méthode assez étonnante pour dater des conglomérats consiste à mesurer l'épaisseur du halo d'altération autour de galets dans la roche. En effet, l'épaisseur de cette zone altérée dépend de la durée d'exposition à des conditions de surface et à la vitesse du processus d'altération. Il est possible de calibrer cette relation et de s'en servir comme méthode de datation.\n",
    "\n",
    "Le fichier `alteration_galet.txt` contient des données provenant de Nouvelle Zélande et permettant de calibrer cette relation pour cette région. Le fichier contient dans la première colonne l'épaisseur de la zone altérée en mm  et dans la deuxième colonne l'age en milliers d'années (kA).\n",
    "\n",
    "Charger les données, ajuster un polynôme d'ordre 2 sur ces données, et utiliser le résultat pour estimer l'age correspondant à une épaisseur de 3mm."
   ]
  },
  {
   "cell_type": "code",
   "execution_count": 10,
   "metadata": {},
   "outputs": [
    {
     "name": "stdout",
     "output_type": "stream",
     "text": [
      "MSE= 0.1747875027954581\n",
      "Age =  3.58 kA\n"
     ]
    },
    {
     "data": {
      "image/png": "[encoded data removed]",
      "text/plain": [
       "<Figure size 432x288 with 1 Axes>"
      ]
     },
     "metadata": {
      "needs_background": "light"
     },
     "output_type": "display_data"
    }
   ],
   "source": [
    "d = np.loadtxt('data/alteration_galet.txt')\n",
    "xg, yg = d[:,0], d[:,1]\n",
    "\n",
    "p = fit_parabola(xg,yg)\n",
    "\n",
    "e = 3\n",
    "age = p[0] * e**2 + p[1] * e + p[2] \n",
    "print(f\"Age = {age:5.2f} kA\")"
   ]
  },
  {
   "cell_type": "markdown",
   "metadata": {},
   "source": [
    "**Exercice 6** - Régression non linéaire\n",
    "\n",
    "La cellule de calcul ci-dessous vous donne un jeu de donnée d'évolution d'une population de bactéries. On vous demande d'ajuster sur ces données un modéle utilisant l'équation logistique :\n",
    "\n",
    "$$ n(t) = \\frac{n_{max}}{1+c \\cdot \\exp(-rt)}$$\n",
    "avec \n",
    "$$ c = \\frac{n_{max}-n_0}{n_0}$$\n",
    "\n",
    "Quelles valeurs ont les paramètres obtenues ?"
   ]
  },
  {
   "cell_type": "code",
   "execution_count": 11,
   "metadata": {},
   "outputs": [],
   "source": [
    "t = np.array((0.3,0.5,0.72,0.8,1,1.2,1.5,1.8,2,2.3,2.5,2.7,3)) # Temps en jours\n",
    "n = np.array((46, 70,  98, 110, 135, 157, 163, 166, 182, 170, 174,  167, 186)) # Nombres de bactéries"
   ]
  },
  {
   "cell_type": "code",
   "execution_count": 12,
   "metadata": {},
   "outputs": [],
   "source": [
    "def logistique(t, n0, nmax, r):\n",
    "    c = (nmax - n0) / n0\n",
    "    return nmax / (1 + c * np.exp(-r * t))"
   ]
  },
  {
   "cell_type": "code",
   "execution_count": 13,
   "metadata": {},
   "outputs": [],
   "source": [
    "from scipy import optimize"
   ]
  },
  {
   "cell_type": "code",
   "execution_count": 14,
   "metadata": {},
   "outputs": [
    {
     "data": {
      "image/png": "[encoded data removed]",
      "text/plain": [
       "<Figure size 432x288 with 1 Axes>"
      ]
     },
     "metadata": {
      "needs_background": "light"
     },
     "output_type": "display_data"
    }
   ],
   "source": [
    "p, Cp = optimize.curve_fit(logistique, t, n, p0=[10, 180, 2])\n",
    "yc = logistique(t, *p)\n",
    "plt.plot(t,n,'o')\n",
    "plt.plot(t,yc,'-')\n",
    "plt.ylabel('Nombre de bactéries')\n",
    "plt.xlabel('Nombre de jours')\n",
    "plt.show()"
   ]
  },
  {
   "cell_type": "code",
   "execution_count": 15,
   "metadata": {},
   "outputs": [
    {
     "name": "stdout",
     "output_type": "stream",
     "text": [
      "Paramètres identifiés:\n",
      " population initiale:  20.1\n",
      " population maximale: 175.5\n",
      " taux de croissance:    3.2\n"
     ]
    }
   ],
   "source": [
    "print(\"Paramètres identifiés:\")\n",
    "print(f\" population initiale: {p[0]:5.1f}\")\n",
    "print(f\" population maximale: {p[1]:5.1f}\")\n",
    "print(f\" taux de croissance:  {p[2]:5.1f}\")"
   ]
  }
 ],
 "metadata": {
  "kernelspec": {
   "display_name": "Python 3",
   "language": "python",
   "name": "python3"
  },
  "language_info": {
   "codemirror_mode": {
    "name": "ipython",
    "version": 3
   },
   "file_extension": ".py",
   "mimetype": "text/x-python",
   "name": "python",
   "nbconvert_exporter": "python",
   "pygments_lexer": "ipython3",
   "version": "3.8.8"
  }
 },
 "nbformat": 4,
 "nbformat_minor": 4
}
