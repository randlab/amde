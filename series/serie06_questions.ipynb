{
 "cells": [
  {
   "cell_type": "markdown",
   "metadata": {},
   "source": [
    "# Série 6 - Exercices\n",
    "\n",
    "Les mouvements de convections jouent un rôle important dans la modélisation de la météo, du climat, ou encore des mouvements controlant la tectonique des plaques au sein du manteau terrestre. Leur modélisation requiert de résoudre des équations aux dérivées partielles faisant intervenir la dynamique des fluides. \n",
    "\n",
    "En 1963, Lorenz en propose une version simplifiée qui permet d'étudier certaines caractéristiques importantes de ces équations. Il donne le système d'équations différentielles: \n",
    "\n",
    "$$\\frac{dx}{dt} = \\sigma ( y - x )$$\n",
    "$$\\frac{dy}{dt} = x ( \\rho - z ) - y$$\n",
    "$$\\frac{dz}{dt} = x y - \\beta z$$\n",
    "\n",
    "Avec $x$, $y$, et $z$ trois variables qui décrivent une version très simplifiée d'un système atmosphérique comportant des cellules de convection.  $x$ represente l’intensite du mouvement de convection, $y$ représente la différence de température entre les courants ascendants et descendants et $z$ est proportionnel à l'écart entre le profil vertical de température et une tendance linéaire.\n",
    "\n",
    "On vous demande de résoudre ce système d'équations pour  :\n",
    "- Le cas avec les paramètres $\\sigma = 10 $, $\\rho = 28$, $\\beta = 8 / 3$\n",
    "- sur un intervalle de temps de 0 à 30 unités\n",
    "\n",
    "Il faut résoudre le cas deux fois avec comme valeurs initiales :\n",
    "- $x=-9.7554, y=8.75,  z=24.747$\n",
    "- $x=-9.7555, y=8.75,  z=24.747$\n",
    "\n",
    "Faire le graphe de l'évolution du système en fonction du temps dans les deux cas. Superposez les courbes. Que constatez-vous ? Commentaire ?\n",
    "\n",
    "Si vous avez la curiosité et le temps, faites un graphe représentant les états du système en trois dimensions. Les séries de valeurs $x$, $y$ et $z$ que vous aurez calculé pour tous les pas de temps sont considérés comme des coordonnées pour des points. Vous pouvez utiliser la commande `plot3D` de matplotlib pour faire cette figure."
   ]
  },
  {
   "cell_type": "code",
   "execution_count": null,
   "metadata": {},
   "outputs": [],
   "source": []
  }
 ],
 "metadata": {
  "kernelspec": {
   "display_name": "Python 3",
   "language": "python",
   "name": "python3"
  },
  "language_info": {
   "codemirror_mode": {
    "name": "ipython",
    "version": 3
   },
   "file_extension": ".py",
   "mimetype": "text/x-python",
   "name": "python",
   "nbconvert_exporter": "python",
   "pygments_lexer": "ipython3",
   "version": "3.8.8"
  }
 },
 "nbformat": 4,
 "nbformat_minor": 4
}
