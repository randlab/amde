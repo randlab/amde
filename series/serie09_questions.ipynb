{
 "cells": [
  {
   "cell_type": "markdown",
   "metadata": {},
   "source": [
    "# Série 09 - Exercices - Solutions\n",
    "\n",
    "Le but de cette série est de se familiariser avec le  module `numpy.random` pour la génération de nombres aléatoires et son application pour les calculs de propagation d'incertitude."
   ]
  },
  {
   "cell_type": "code",
   "execution_count": null,
   "metadata": {},
   "outputs": [],
   "source": [
    "import numpy as np\n",
    "import matplotlib.pyplot as plt"
   ]
  },
  {
   "cell_type": "markdown",
   "metadata": {},
   "source": [
    "**Exercice 1**  - Echantillonner des données\n",
    "\n",
    "Utiliser la fonction `random.choice` de `numpy` pour tirer 5 valeurs aléatoire avec remise dans le vecteur `data`"
   ]
  },
  {
   "cell_type": "code",
   "execution_count": null,
   "metadata": {},
   "outputs": [],
   "source": [
    "data = [1.2, 4., 5.2, 7.3, 8.9, 10.2]\n"
   ]
  },
  {
   "cell_type": "markdown",
   "metadata": {},
   "source": [
    "**Exercice 2** - Loi de Bernoulli\n",
    "\n",
    "Soit une variable aléatoire $X$, suivant une loi de Bernoulli :\n",
    "- prend la valeur 1 avec la probabilité $p$\n",
    "- prend la valeur 0 avec la probabilité $1-p$\n",
    "\n",
    "Tirer 15 valeurs aléatoires dans une loi de Bernoulli de probabilité $p=0.35$."
   ]
  },
  {
   "cell_type": "code",
   "execution_count": null,
   "metadata": {},
   "outputs": [],
   "source": []
  },
  {
   "cell_type": "markdown",
   "metadata": {},
   "source": [
    "**Exercice 3** - Loi Binomiale\n",
    "\n",
    "Soit une population de 153 individus. Le taux de mortalité est de 0.024.\n",
    "\n",
    "Faire un tirage aléatoire dans une loi binomiale pour simuler le nombre d'individus qui décèdent."
   ]
  },
  {
   "cell_type": "code",
   "execution_count": null,
   "metadata": {},
   "outputs": [],
   "source": []
  },
  {
   "cell_type": "markdown",
   "metadata": {},
   "source": [
    "**Exercice 4** - Loi uniforme\n",
    "\n",
    "Tirer 60 valeurs dans une loi uniforme entre $\\pi$ et $2\\pi$. En faire l'histogramme."
   ]
  },
  {
   "cell_type": "code",
   "execution_count": null,
   "metadata": {},
   "outputs": [],
   "source": []
  },
  {
   "cell_type": "markdown",
   "metadata": {},
   "source": [
    "**Exercice 5** - Loi normale\n",
    "\n",
    "Tirer 2'000 valeurs dans une loi gaussienne de moyenne 3.2 et d'écart-type 0.5. Calculer la moyenne et l'écart-type des valeurs tirées pour vérifier que votre tirage est correct."
   ]
  },
  {
   "cell_type": "code",
   "execution_count": null,
   "metadata": {},
   "outputs": [],
   "source": []
  },
  {
   "cell_type": "markdown",
   "metadata": {},
   "source": [
    "**Exercice 6** - Propagation d'incertitude\n",
    "\n",
    "Le débit d'eau $Q$ [m$^3$/s]qui traverse une section d'aquifère est égal à :\n",
    "\n",
    "$$Q = A \\times K  \\times \\frac{h_1-h_0}{L}$$\n",
    "\n",
    "avec:\n",
    "- $A$ [m$^2$] l'aire traversée par l'écoulement\n",
    "- $K$ [m/s] la conductivité hydraulique\n",
    "- $h_1$ et $h_0$ [m] la charge hydraulique en amont et en aval le long d'une ligne de courant perpendiculaire à la section traversée\n",
    "- $L$ [m] la distance entre les deux points de mesures\n",
    "\n",
    "On a mesuré la conductivité hydraulique $K$ sur plusieurs échantillons, ainsi que les facteurs géométriques.\n",
    "\n",
    "On a obtenu les valeurs suivante avec leur incertitudes\n",
    "\n",
    "- $A = 500 \\pm 5 [m^2]$\n",
    "- $Y = \\ln K = -3 \\pm 0.4 [\\ln (m/s)] $ \n",
    "- $h_1 = 7m \\pm 0.2$\n",
    "- $h_0 = 0 [m]$ \n",
    "- $L = 1000 [m]$\n",
    "\n",
    "Déterminer la valeur moyenne de $Q$ et son intervalle de confiance à 95%. \n",
    "\n",
    "On supposera que toutes les incertitudes ci-dessus sont données avec un intervalle de confiance à 95% et que les erreurs sont gaussiennes autour de la valeur centrale donnée.\n",
    "\n",
    "Arrondissez les valeurs pour avoir des chiffres significatifs raisonnables."
   ]
  },
  {
   "cell_type": "code",
   "execution_count": null,
   "metadata": {},
   "outputs": [],
   "source": []
  }
 ],
 "metadata": {
  "kernelspec": {
   "display_name": "Python 3",
   "language": "python",
   "name": "python3"
  },
  "language_info": {
   "codemirror_mode": {
    "name": "ipython",
    "version": 3
   },
   "file_extension": ".py",
   "mimetype": "text/x-python",
   "name": "python",
   "nbconvert_exporter": "python",
   "pygments_lexer": "ipython3",
   "version": "3.8.3"
  }
 },
 "nbformat": 4,
 "nbformat_minor": 4
}
