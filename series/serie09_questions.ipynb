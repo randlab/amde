{
 "cells": [
  {
   "cell_type": "markdown",
   "metadata": {},
   "source": [
    "# Série 09 - Exercices - Solutions\n",
    "\n",
    "Le but de cette série est de se familiariser avec le  module `numpy.random` pour la génération de nombres aléatoires et son application pour les calculs de propagation d'incertitude ainsi que de voir une application en dynamique des populations."
   ]
  },
  {
   "cell_type": "code",
   "execution_count": null,
   "metadata": {},
   "outputs": [],
   "source": [
    "import numpy as np\n",
    "import matplotlib.pyplot as plt"
   ]
  },
  {
   "cell_type": "markdown",
   "metadata": {},
   "source": [
    "**Exercice 1**  - Echantillonner des données\n",
    "\n",
    "Utiliser la fonction `random.choice` de `numpy` pour tirer 5 valeurs aléatoire avec remise dans le vecteur `data`"
   ]
  },
  {
   "cell_type": "code",
   "execution_count": null,
   "metadata": {},
   "outputs": [],
   "source": [
    "data = [1.2, 4., 5.2, 7.3, 8.9, 10.2]\n"
   ]
  },
  {
   "cell_type": "markdown",
   "metadata": {},
   "source": [
    "**Exercice 2** - Loi de Bernoulli\n",
    "\n",
    "Soit une variable aléatoire $X$, suivant une loi de Bernoulli :\n",
    "- prend la valeur 1 avec la probabilité $p$\n",
    "- prend la valeur 0 avec la probabilité $1-p$\n",
    "\n",
    "Tirer 15 valeurs aléatoires dans une loi de Bernoulli de probabilité $p=0.35$."
   ]
  },
  {
   "cell_type": "code",
   "execution_count": null,
   "metadata": {},
   "outputs": [],
   "source": []
  },
  {
   "cell_type": "markdown",
   "metadata": {},
   "source": [
    "**Exercice 3** - Loi Binomiale\n",
    "\n",
    "Soit une population de 153 individus. Le taux de mortalité est de 0.024.\n",
    "\n",
    "Faire un tirage aléatoire dans une loi binomiale pour simuler le nombre d'individus qui décèdent."
   ]
  },
  {
   "cell_type": "code",
   "execution_count": null,
   "metadata": {},
   "outputs": [],
   "source": []
  },
  {
   "cell_type": "markdown",
   "metadata": {},
   "source": [
    "**Exercice 4** - Loi uniforme\n",
    "\n",
    "Tirer 60 valeurs dans une loi uniforme entre $\\pi$ et $2\\pi$. En faire l'histogramme."
   ]
  },
  {
   "cell_type": "code",
   "execution_count": null,
   "metadata": {},
   "outputs": [],
   "source": []
  },
  {
   "cell_type": "markdown",
   "metadata": {},
   "source": [
    "**Exercice 5** - Loi normale\n",
    "\n",
    "Tirer 2'000 valeurs dans une loi gaussienne de moyenne 3.2 et d'écart-type 0.5. Calculer la moyenne et l'écart-type des valeurs tirées pour vérifier que votre tirage est correct."
   ]
  },
  {
   "cell_type": "code",
   "execution_count": null,
   "metadata": {},
   "outputs": [],
   "source": []
  },
  {
   "cell_type": "markdown",
   "metadata": {},
   "source": [
    "**Exercice 6** - Propagation d'incertitude\n",
    "\n",
    "Le débit d'eau $Q$ [m$^3$/s]qui traverse une section d'aquifère est égal à :\n",
    "\n",
    "$$Q = A \\times K  \\times \\frac{h_1-h_0}{L}$$\n",
    "\n",
    "avec:\n",
    "- $A$ [m$^2$] l'aire traversée par l'écoulement\n",
    "- $K$ [m/s] la conductivité hydraulique\n",
    "- $h_1$ et $h_0$ [m] la charge hydraulique en amont et en aval le long d'une ligne de courant perpendiculaire à la section traversée\n",
    "- $L$ [m] la distance entre les deux points de mesures\n",
    "\n",
    "On a mesuré la conductivité hydraulique $K$ sur plusieurs échantillons, ainsi que les facteurs géométriques.\n",
    "\n",
    "On a obtenu les valeurs suivante avec leur incertitudes\n",
    "\n",
    "- $A = 500 \\pm 5 [m^2]$\n",
    "- $Y = \\ln K = -3 \\pm 0.4 [\\ln (m/s)] $ \n",
    "- $h_1 = 7m \\pm 0.2$\n",
    "- $h_0 = 0 [m]$ \n",
    "- $L = 1000 [m]$\n",
    "\n",
    "Déterminer la valeur moyenne de $Q$ et son intervalle de confiance à 95%. \n",
    "\n",
    "On supposera que toutes les incertitudes ci-dessus sont données avec un intervalle de confiance à 95% et que les erreurs sont gaussiennes autour de la valeur centrale donnée.\n",
    "\n",
    "Arrondissez les valeurs pour avoir des chiffres significatifs raisonnables."
   ]
  },
  {
   "cell_type": "code",
   "execution_count": null,
   "metadata": {},
   "outputs": [],
   "source": []
  },
  {
   "cell_type": "markdown",
   "metadata": {},
   "source": [
    "**Exercice 7 - Coexistence de deux espèces** \n",
    "\n",
    "L'une des questions écologiques les plus anciennes et non encore résolues concerne la coexistence de plusieurs espèces. Pour illustrer le problème, vous allez créer un modèle très simple de deux espèces concurrentes. \n",
    "\n",
    "Supposons qu'un écosystème  soit occupé par $𝑁$ individus appartenant à deux espèces. Au début de la simulation, la moitié de ces individus appartient à l'espèce 1 tandis que l'autre moitié appartient à l'espèce 2.\n",
    "\n",
    "On note $𝑁_1( t )$ le nombre d'individus de l'espèce 1 à l'instant $t$ et $𝑁_2( t )$ le nombre d'individus de l'espèce 2 à l'instant $t$.\n",
    "\n",
    "Nous supposons de plus que ces deux espèces ont le même taux de mortalité et qu'une fois qu'un individu meurt, l'espace qu'il occupait est pris par un nouvel individu de l'espèce 1 avec une probabilité qui dépend de la proportion d'individus au temps considéré $P = \\frac{N_1( t)}{N}$ et par l'espèce 2 avec la probabilité $1-P$.\n",
    "\n",
    "Comme la simulation commence avec le même nombre d'individus pour chaque espèce et que ces espèces ont des taux démographiques identiques, on pourrait s'attendre à ce que la coexistence soit garantie. Le but de ce lab est de vérifier si cette hypothèse est correcte.\n",
    "\n",
    "\n",
    "**Partie 1 - Implémentation d'une simulation**\n",
    "\n",
    "Ecrire une fonction qui prennent en entrée la taille de la population initiale $N$, le nombre d'annéee (= nombre de pas de temps) que l'on souhaite simuler, et le taux de mortalité. La fonction renvoie les deux vecteurs  $N_1$ et $N_2$ contenant le nombre d'individus de chacune des populations 1 et 2 simulées pour chaque pas de temps.\n",
    "\n",
    "Comme l'évolution de la population dépend de phénomènes aléatoires (quantité d'individus de chaque espèce qui décèdent, et processus de remplacement des espaces libérés), la fonction doit être aléatoire et doit renvoyer pour chaque appel une simulation stochastique différente qui respecte les probabilités décrites dans l'énoncé.\n",
    "\n",
    "**Pseudo-code**\n",
    "\n",
    " Le programme que vous allez écrire pourrait s'organiser suivant le pseudo-code suivant :\n",
    "\n",
    "- 1) Créer les vecteurs $N_1$ et $N_2$ pour stocker l'évolution du nombre d'individus\n",
    "- 2) Initialiser la population de chaque espèce de manière équilibrée $𝑁_1(t=0) = N/2$, et $𝑁_2(t=0)=N/2$  \n",
    "- 3) Faire une boucle, pour chaque année : \n",
    "    - A) simuler le nombre d'individus qui meurent de chaque espèce (tirage aléatoire suivant la probabilité adaptée)\n",
    "    - B) simuler quelles espèces occuperont chacun des espaces vacants et mettre à jour la population\n",
    "- 4) Retourner les deux vecteurs $N_1$ et $N_2$"
   ]
  },
  {
   "cell_type": "code",
   "execution_count": null,
   "metadata": {},
   "outputs": [],
   "source": [
    "def simul_populations(N,nsteps,mortality):\n",
    "        \n",
    "    # A remplir\n",
    "\n",
    "    return N1, N2"
   ]
  },
  {
   "cell_type": "markdown",
   "metadata": {},
   "source": [
    "**Utilisation de la fonction**\n",
    "\n",
    "- Utiliser votre fonction pour calculer l'évolution d'une population contenant 10'000 individus au total, sur une période de 30'000 ans. Le taux de mortalité est de 0.35.\n",
    "- Faire un graphe montrant l'évolution des deux populations en fonction du temps. \n",
    "- Répétez le calcul en exécutant plusieurs fois la cellule du notebook pour vérifier que la fonction donne bien un résultat stochastique.\n",
    "- Commentez le résultat."
   ]
  },
  {
   "cell_type": "markdown",
   "metadata": {},
   "source": [
    "**Partie 2 - Analyse statistique des résultats**\n",
    "\n",
    "Pour se faire une meilleure idée du comportement global de ce système, nous allons répéter l'expérience de nombreuses fois et estimer la proportion de cas où l'une des espèces disparait et les cas où les deux espèces continuent de cohabiter à la fin des 30'000 ans.\n",
    "\n",
    "Pour cela, répétez la simulation de nombreuses fois (une dizaine, ou centaine de fois ou plus). Pour chaque simulation stockez uniquement dans un tableau un code vous permettant de savoir si à la fin de la simulation on est dans une situation d'équilibre ou si une espèce à disparu.\n",
    "\n",
    "Analysez ensuite votre tableau pour calculer la probabilité d'obtenir un équilibre ou au contraire dans une situation où l'une des deux espèces disparait.\n",
    "\n",
    "Quelles sont ces probabilités ? Faites un graphe représentant ces probabilités ? \n",
    "\n",
    "Commentez votre résultat. Quel mécanisme faudrait-il ajouter dans le système naturel pour favoriser la co-existence ?"
   ]
  },
  {
   "cell_type": "code",
   "execution_count": null,
   "metadata": {},
   "outputs": [],
   "source": []
  }
 ],
 "metadata": {
  "kernelspec": {
   "display_name": "Python 3",
   "language": "python",
   "name": "python3"
  },
  "language_info": {
   "codemirror_mode": {
    "name": "ipython",
    "version": 3
   },
   "file_extension": ".py",
   "mimetype": "text/x-python",
   "name": "python",
   "nbconvert_exporter": "python",
   "pygments_lexer": "ipython3",
   "version": "3.8.8"
  }
 },
 "nbformat": 4,
 "nbformat_minor": 4
}
