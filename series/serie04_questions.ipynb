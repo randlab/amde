{
 "cells": [
  {
   "cell_type": "markdown",
   "metadata": {},
   "source": [
    "# Série 4 - Résolution d'un système d'équations différentielles\n",
    "\n",
    "Le but de cette série est d'illustrer **comment résoudre un système d'équations différentielles** avec la fonction `solve_ivp` du module `scipy`.\n",
    "\n",
    "Pour ce faire, nous allons prendre un des exemples classique en écologie des populations, le modèle de Lotka-Volterra et son application sur les intéractions entre Lynx et Lièvres au Canada."
   ]
  },
  {
   "cell_type": "markdown",
   "metadata": {},
   "source": [
    "## Visualisation des données\n",
    "\n",
    "Le fichier `hudson.txt` contient des données issus des registres de la compagnie de la baie d'Hudson. La première colonne contient l'année. Les deux autres colonnes contiennent dans l'ordre le nombre de milliers de peaux de Lièvres et de Lynx, chassés par année et vendus par les trappeurs. \n",
    "\n",
    "**Exercice 1 - Visualisation**\n",
    "\n",
    "Chargez le fichier de données et faites le graphe montrant les variations des deux populations sur l'intervalle de temps considéré. Commentez vos observations."
   ]
  },
  {
   "cell_type": "code",
   "execution_count": null,
   "metadata": {},
   "outputs": [],
   "source": []
  },
  {
   "cell_type": "markdown",
   "metadata": {},
   "source": [
    "**Observations** : A compléter ..."
   ]
  },
  {
   "cell_type": "markdown",
   "metadata": {},
   "source": [
    "## Modèle de Lotka Volterra\n",
    "\n",
    "Pour reproduire ce type de donnée, Lotka et Volterra ont introduit un modèle qui a été énormément étudié pour les intéraction entre proies et prédateurs, ou plus généralement des interactions conflictuelles entre deux entitées dans un système. \n",
    "\n",
    "Le modèle suppose que le nombre de proies, notées $v_1(t)$, ici les lièvres, pourraient se reproduire en suivant une croissance exponentielle si les prédateurs n'étaient pas là. Donc le premier membre de l'équation représentant leur taux de variation est que l'accroissement de la population doit être proportionnel à la population: $p_1 v1(t)$.\n",
    "\n",
    "Le nombre de prédateurs est notés $v_2(t)$. A chaque instant, l'hypothèse est que le nombre de proies qui sont capturées par les prédateurs est proportionnel au nombre de proies et de prédateurs : $p_2 ~ v_1(t) ~ v_2(t)$.\n",
    "\n",
    "En combinant ces deux termes: croissance de la population et prélèvement par les prédateurs, on obtient le taux global de variation de la population de proies:\n",
    "\n",
    "$$ \\frac{d v_1}{d t} = p_1 ~ v_1(t) - p_2 ~ v_1(t) ~ v_2(t)$$\n",
    "\n",
    "Pour les prédateurs, il est supposé que leur survie dépend entièrement des proies. Naturellement, si le nombre de proie accessible était nul, la population diminuerait régulièrement avec un taux de mortalité fixe. La baisse de la population chaque année est donc proportionnelle à la population de prédateur : $- p_3 ~ v_2(t)$.\n",
    "\n",
    "Pour grandir, la population doit consommer des proies. Et le taux d'accroissement est donc proportionnel aux nombres de proies capturées. On a déja fait l'hypothèse que ce nombre est proportionnel au produit du nombre de proies et de prédateurs, on obtient le taux d'accroissement de la population de prédateurs $p_4 ~ v_1(t) ~ v_2(t)$. Le bilan de ces deux termes donne la deuxième équation de Lotka-Volterra:\n",
    "\n",
    "$$ \\frac{d v_2}{d t} = - p_3 ~ v_2(t) + p_4 ~ v_1(t) ~ v_2(t)$$\n",
    "\n",
    "En résumé, le système naturel est donc décrit par un système de deux équations différentielles :\n",
    "\n",
    "\n",
    "$$ \\frac{d v_1}{d t} = p_1 ~ v_1(t) - p_2 ~ v_1(t) ~ v_2(t)$$\n",
    "\n",
    "$$ \\frac{d v_2}{d t} = - p_3 ~ v_2(t) + p_4 ~ v_1(t) ~ v_2(t)$$\n",
    "\n",
    "Pour résoudre ces équations, il est nécessaire de connaitre les 4 paramètres qui interviennent, ainsi que les valeurs initiales."
   ]
  },
  {
   "cell_type": "markdown",
   "metadata": {},
   "source": [
    "**Exercice 2 - Construction et résolution du système**\n",
    "\n",
    "On vous donne dans le bloc ci-dessous le vecteur de paramètres $p$ qui contient dans l'ordre les valeurs de $p_1$, $p_2$, $p_3$, et $p_4$.\n",
    "\n",
    "Vous devez définir un fonction `dvdt()` (vous pourriez choisir un autre nom) qui calcule les dérivées et renvoie un tableau numpy contenant $\\frac{d v_1}{d t}$ et $\\frac{d v_2}{d t}$, pour toutes les valeurs de $v$, du temps $t$ et des paramètres.\n",
    "\n",
    "\n",
    "Résolvez ensuite le système d'équation en employant la fonction `solve_ivp` du module `scipy.integrate`.\n",
    "\n",
    "On prendra comme valeur initiale pour le début de la simulation : 34 lièvres et 4 lynx.\n",
    "\n",
    "Imprimez le résultat de la simulation et vérifiez que tout a bien fonctionné, puis faire un graphe pour comparer le résultat du modèle aux observations."
   ]
  },
  {
   "cell_type": "code",
   "execution_count": null,
   "metadata": {},
   "outputs": [],
   "source": [
    "# Définition des paramètres du modèles\n",
    "p = [0.48, 0.025, 0.93, 0.027]\n"
   ]
  },
  {
   "cell_type": "markdown",
   "metadata": {},
   "source": [
    "**Exercice 3 - Etude de sensibilité** \n",
    "\n",
    "La solution du système dépend des 4 paramètres que l'on vous a donné ci-dessus. On aimerait maintenant faire une étude pour savoir comment les deux populations changent en fonction du taux de reproduction des lièvres.\n",
    "\n",
    "On aimerait faire un graphe avec les prédictions faites par le modèle pour des valeurs de $p_1$ variant de 0.35 à 0.55, et sur une durée de 40 ans.\n",
    "\n",
    "Pour faire cela, le plus facile est de commencer par encapsuler  les calculs que vous avez réalisés ci-dessus dans une fonction `modele_lotka_volterra(t, v0, p)`. \n",
    "\n",
    "Ensuite, vous pouvez écrire une boucle permettant de répéter les calculs et faire le graphe désirée.\n",
    "\n",
    "Commentez le résultat. Qu'observez-vous ?"
   ]
  },
  {
   "cell_type": "code",
   "execution_count": 6,
   "metadata": {},
   "outputs": [],
   "source": [
    "def modele_lotka_volterra(t, v0, p):\n",
    "    \"\"\"Calcule l'évolution d'une population selon Lokta-Volterra.\n",
    "    \n",
    "    Cette fonction prend en entrée le tableau des temps t pour \n",
    "    lesquels on souhaite faire le calcul, le vecteur des valeurs \n",
    "    initiales, et le vecteur de paramètres p.\n",
    "    \n",
    "    La fonction retourne le tableau de l'évolution des deux populations.\"\"\"\n",
    "    "
   ]
  },
  {
   "cell_type": "code",
   "execution_count": null,
   "metadata": {},
   "outputs": [],
   "source": []
  },
  {
   "cell_type": "markdown",
   "metadata": {},
   "source": [
    "**Observations** :  A compléter..."
   ]
  }
 ],
 "metadata": {
  "kernelspec": {
   "display_name": "Python 3",
   "language": "python",
   "name": "python3"
  },
  "language_info": {
   "codemirror_mode": {
    "name": "ipython",
    "version": 3
   },
   "file_extension": ".py",
   "mimetype": "text/x-python",
   "name": "python",
   "nbconvert_exporter": "python",
   "pygments_lexer": "ipython3",
   "version": "3.8.8"
  }
 },
 "nbformat": 4,
 "nbformat_minor": 4
}
