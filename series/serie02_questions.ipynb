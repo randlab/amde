{
 "cells": [
  {
   "cell_type": "markdown",
   "metadata": {},
   "source": [
    "# Série 2 - Résolution d'équation non linéaire\n",
    "\n",
    "Il est fréquent d'avoir besoin d'obtenir une solution numérique approchée à une équation non linéaire qui ne dispose de solution analytique simple. Dans ce cas, plusieurs technique existe comme vu en cours.\n",
    "\n",
    "Le but de cette série d'exercice est de vous entraîner à l'utilisation de ces méthodes et de mieux comprendre leur forces et limitations."
   ]
  },
  {
   "cell_type": "markdown",
   "metadata": {},
   "source": [
    "**Exercice 1 - Préliminaire**\n",
    "\n",
    "Soit l'équation d'état du $CO_2$\n",
    "\n",
    "$$\\left[ p + a \\left( \\frac{N}{V} \\right)^2 \\right] \n",
    "  \\left( V - Nb \\right) = k N T $$\n",
    "  \n",
    "avec :\n",
    "- $k = 1.3806503 \\cdot 10^{-23}$  la Constante de Boltzmann en Joule/Kelvin\n",
    "- $a = 0.401$ Pascal m$^6$\n",
    "- $b = 4.27\\cdot 10^{-5}$  m$^3$\n",
    "\n",
    "Le but est d'estimer le volume de $CO_2$ gazeux correspondant aux conditions suivantes :\n",
    "- $N = 1000$ molécules\n",
    "- $T = 300$  Kelvins\n",
    "- $p = 3.5\\cdot 10^{7}$  Pascals\n",
    "\n",
    "Pour cela vous devez :\n",
    "1. Ecrire une fonction en python qui prend en entrée le volume $V$ et renvoit  en sortie : \n",
    "$$\n",
    "\\left[ p + a \\left( \\frac{N}{V} \\right)^2 \\right] \n",
    "  \\left( V - Nb \\right) - k N T\n",
    "$$\n",
    "Cette fonction sera égale à zéro quand on lui donne le volume recherché en entrée.\n",
    "2. Faire un graphe de cette fonction pour une gamme de valeur de $V$ allant de 0.03 à 0.1 m$^3$.\n",
    "3. Vérifier que la fonction passe bien par zéro dans l'intervalle 0.03 à 0.1"
   ]
  },
  {
   "cell_type": "code",
   "execution_count": null,
   "metadata": {},
   "outputs": [],
   "source": [
    "# Définition des constantes de l'équation d'état du CO2\n",
    "k = 1.3806503e-23 # Constante de Boltzmann en Joule/Kelvin\n",
    "a = 0.401 #Pascal m^6\n",
    "b = 4.27e-5 # m^3\n",
    "\n",
    "# Définition des paramètres pour l'exemple\n",
    "N = 1000 # Nb Molécules\n",
    "T = 300 # Kelvin\n",
    "p = 3.5e7 # Pascal\n"
   ]
  },
  {
   "cell_type": "markdown",
   "metadata": {},
   "source": [
    "**Exercice 2 - Utilisation de fsolve**\n",
    "\n",
    "Pour commencer, et comme c'est la solution que l'on utilisera le plus souvent en pratique, employez la fonction `fsolve` du module `scipy.optimize` pour calculer le volume de gaz. Combien trouvez-vous ?\n",
    "\n",
    "Utilisez la cellule ci-dessous pour écrire les 2 lignes de codes nécessaires."
   ]
  },
  {
   "cell_type": "code",
   "execution_count": null,
   "metadata": {},
   "outputs": [],
   "source": []
  },
  {
   "cell_type": "markdown",
   "metadata": {},
   "source": [
    "**Exercice 3 - Bisection**\n",
    "\n",
    "Ecrire un code python pour implémenter la méthode de bisection pour trouver la valeur de $V$. Afin de pouvoir l'appliquer ensuite pour différents cas, écrivez l'algorithme dans une fonction. La cellule ci-dessous donne les spécifications (input, output) de cette fonction. \n",
    "\n",
    "Appliquer la fonction ainsi définie au problème de calcul du volume de CO2. Est-ce que le résultat est en accord avec celui que vous avez déja obtenu ?\n",
    "\n",
    "Faites quelques essais pour voir comment la solution (volume V et nombre d'itération) dépend de l'erreur choisie. \n",
    "Combien d'itérations faut-il pour obtenir un résultat avec une tolérance de 1e-20 ?\n"
   ]
  },
  {
   "cell_type": "code",
   "execution_count": null,
   "metadata": {},
   "outputs": [],
   "source": [
    "def bisection(f, a, b, eps = 1e-5, kmax = 1000, verbose = False):\n",
    "    \"\"\"Résolution d'une équation non linéaire par méthode de bisection \n",
    "    \n",
    "    Parametres\n",
    "    ----------\n",
    "    f : fonction appelable par python ``f(x)`` \n",
    "        La fonction à résoudre, on cherche x, tel que f(x)=0\n",
    "    a, b : float\n",
    "        Valeur minimum et maximum de x entre lesquelles on cherche une solution    \n",
    "    eps : float\n",
    "        Valeur de l'erreur acceptable sur la solution\n",
    "    kmax : int\n",
    "        Nombre maximum d'itérations\n",
    "        \n",
    "    Retourne\n",
    "    --------\n",
    "    x : float\n",
    "        Valeur x telle que f(x)=0\n",
    "    k : int\n",
    "        Le nombre d'itérations qui ont été nécessaire pour trouver x\n",
    "    \n",
    "    \"\"\""
   ]
  },
  {
   "cell_type": "markdown",
   "metadata": {},
   "source": [
    "**Exercice 4 - Méthode de Newton**\n",
    "\n",
    "Comme ci-dessus, on vous demande une fonction pour trouver le zéro de la fonction d'état du CO2 mais cette fois-ci avec la méthode de newton.\n",
    "\n",
    "Une petite difficulté dans la méthode de Newton est qu'il vous faut la dérivée en chaque point. Pour la calculer, la fonction `derive()` vous est donné ci-dessous.\n",
    "\n",
    "En combien d'itération obtenez-vous un résultat avec une tolérance de 1e-20 ?"
   ]
  },
  {
   "cell_type": "code",
   "execution_count": null,
   "metadata": {},
   "outputs": [],
   "source": [
    "def derive(f,x,dx=1e-5):\n",
    "    \"\"\"Calcule la dérivée f'(x) centrée au point x par la méthode des incréments.\"\"\"\n",
    "    return ( f( x + dx ) - f( x - dx ) ) / ( 2 * dx )\n",
    "\n"
   ]
  },
  {
   "cell_type": "markdown",
   "metadata": {},
   "source": [
    "**Exercice 5 - Comparaison des méthodes**\n",
    "\n",
    "Nous cherchons maintenant le zéro de la fonction :\n",
    "\n",
    "$$f(x) = \\sin(2x)-1+x$$\n",
    "\n",
    "Le bloc ci-dessous vous donne la définition de la fonction et le graphe dans l'intervalle $[-3,3]$.\n",
    "\n",
    "On vous demande de comparer les résultats obtenus par :\n",
    "- votre fonction de bisection en partant de l'intervale [-3,3] avec une erreur de 1e-10\n",
    "- votre fonction basée sur la méthode de Newton en partant de $x=2.0$ avec une erreur de 1e-10\n",
    "- la fonction `fsolve` en partant aussi de $x=2.0$\n",
    "\n",
    "Qu'observez-vous ?\n",
    "\n",
    "Essayez la même chose en prenant un point de départ plus proche de la solution."
   ]
  },
  {
   "cell_type": "code",
   "execution_count": null,
   "metadata": {},
   "outputs": [],
   "source": [
    "def f(x):\n",
    "    return  np.sin(2*x) - 1 + x\n",
    "\n",
    "K = np.linspace(-3,3,100)\n",
    "plt.plot(K,f(K))\n",
    "plt.grid('on')\n",
    "plt.xlabel('x')\n",
    "plt.ylabel('f( x )')\n",
    "plt.show()"
   ]
  }
 ],
 "metadata": {
  "kernelspec": {
   "display_name": "Python 3 (ipykernel)",
   "language": "python",
   "name": "python3"
  },
  "language_info": {
   "codemirror_mode": {
    "name": "ipython",
    "version": 3
   },
   "file_extension": ".py",
   "mimetype": "text/x-python",
   "name": "python",
   "nbconvert_exporter": "python",
   "pygments_lexer": "ipython3",
   "version": "3.9.13"
  }
 },
 "nbformat": 4,
 "nbformat_minor": 4
}
