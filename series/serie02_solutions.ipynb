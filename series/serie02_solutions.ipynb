{
 "cells": [
  {
   "cell_type": "markdown",
   "metadata": {},
   "source": [
    "# Série 2 - Résolution d'équation non linéaire\n",
    "\n",
    "Il est fréquent d'avoir besoin d'obtenir une solution numérique approchée à une équation non linéaire qui ne dispose de solution analytique simple. Dans ce cas, plusieurs technique existe comme vu en cours.\n",
    "\n",
    "Le but de cette série d'exercice est de vous entraîner à l'utilisation de ces méthodes et de mieux comprendre leur forces et limitations."
   ]
  },
  {
   "cell_type": "markdown",
   "metadata": {},
   "source": [
    "**Exercice 1 - Préliminaire**\n",
    "\n",
    "Soit l'équation d'état du $CO_2$\n",
    "\n",
    "$$\\left[ p + a \\left( \\frac{N}{V} \\right)^2 \\right] \n",
    "  \\left( V - Nb \\right) = k N T $$\n",
    "  \n",
    "avec :\n",
    "- $k = 1.3806503 \\cdot 10^{-23}$  la Constante de Boltzmann en Joule/Kelvin\n",
    "- $a = 0.401$ Pascal m$^6$\n",
    "- $b = 4.27\\cdot 10^{-5}$  m$^3$\n",
    "\n",
    "Le but est d'estimer le volume de $CO_2$ gazeux correspondant aux conditions suivantes :\n",
    "- $N = 1000$ molécules\n",
    "- $T = 300$  Kelvins\n",
    "- $p = 3.5\\cdot 10^{7}$  Pascals\n",
    "\n",
    "Pour cela vous devez :\n",
    "1. Ecrire une fonction en python qui prend en entrée le volume $V$ et renvoit  en sortie : \n",
    "$$\n",
    "\\left[ p + a \\left( \\frac{N}{V} \\right)^2 \\right] \n",
    "  \\left( V - Nb \\right) - k N T\n",
    "$$\n",
    "Cette fonction sera égale à zéro quand on lui donne le volume recherché en entrée.\n",
    "2. Faire un graphe de cette fonction pour une gamme de valeur de $V$ allant de 0.03 à 0.1 m$^3$.\n",
    "3. Vérifier que la fonction passe bien par zéro dans l'intervalle 0.03 à 0.1"
   ]
  },
  {
   "cell_type": "code",
   "execution_count": 1,
   "metadata": {},
   "outputs": [
    {
     "data": {
      "image/png": "[encoded data removed]",
      "text/plain": [
       "<Figure size 432x288 with 1 Axes>"
      ]
     },
     "metadata": {
      "needs_background": "light"
     },
     "output_type": "display_data"
    }
   ],
   "source": [
    "import numpy as np\n",
    "import matplotlib.pyplot as plt\n",
    "\n",
    "# Définition des constantes de l'équation d'état du CO2\n",
    "k = 1.3806503e-23 # Constante de Boltzmann en Joule/Kelvin\n",
    "a = 0.401 #Pascal m^6\n",
    "b = 4.27e-5 # m^3\n",
    "\n",
    "# Définition des paramètres pour l'exemple\n",
    "N = 1000 # Nb Molécules\n",
    "T = 300 # Kelvin\n",
    "p = 3.5e7 # Pascal\n",
    "\n",
    "# La fonction à résoudre\n",
    "def f(V):\n",
    "    return ( p + a * (N / V)**2 ) * ( V - N * b ) - k * N *T\n",
    "\n",
    "# Graphe\n",
    "V = np.linspace(0.03,0.1,100)\n",
    "plt.plot(V,f(V))\n",
    "plt.grid('on')\n",
    "plt.xlabel('V')\n",
    "plt.ylabel('f( V )')\n",
    "\n",
    "# Sauvegarde du graphe dans un fichier png\n",
    "plt.savefig('zero_co2.png')\n",
    "plt.show()"
   ]
  },
  {
   "cell_type": "markdown",
   "metadata": {},
   "source": [
    "On constate bien que la fonction passe de -6 à +4, il y a donc un zéro dans l'intervalle [0.03, 0.1]. Graphiquement, on observe qu'elle vaut zéro pour un volume de l'ordre de 0.043."
   ]
  },
  {
   "cell_type": "markdown",
   "metadata": {},
   "source": [
    "**Exercice 2 - Utilisation de fsolve**\n",
    "\n",
    "Pour commencer, et comme c'est la solution que l'on utilisera le plus souvent en pratique, employez la fonction `fsolve` du module `scipy.optimize` pour calculer le volume de gaz. Combien trouvez-vous ?\n",
    "\n",
    "Utilisez la cellule ci-dessous pour écrire les 2 lignes de codes nécessaires."
   ]
  },
  {
   "cell_type": "code",
   "execution_count": 2,
   "metadata": {},
   "outputs": [
    {
     "name": "stdout",
     "output_type": "stream",
     "text": [
      "Le volume de CO2 est de: [0.0427]\n"
     ]
    }
   ],
   "source": [
    "from scipy.optimize import fsolve\n",
    "V = fsolve(f,0.04)\n",
    "print('Le volume de CO2 est de:',V)"
   ]
  },
  {
   "cell_type": "markdown",
   "metadata": {},
   "source": [
    "**Exercice 3 - Bisection**\n",
    "\n",
    "Ecrire un code python pour implémenter la méthode de bisection pour trouver la valeur de $V$. Afin de pouvoir l'appliquer ensuite pour différents cas, écrivez l'algorithme dans une fonction. La cellule ci-dessous donne les spécifications (input, output) de cette fonction. \n",
    "\n",
    "Appliquer la fonction ainsi définie au problème de calcul du volume de CO2. Est-ce que le résultat est en accord avec celui que vous avez déja obtenu ?\n",
    "\n",
    "Faites quelques essais pour voir comment la solution (volume V et nombre d'itération) dépend de l'erreur choisie. \n",
    "Combien d'itérations faut-il pour obtenir un résultat avec une tolérance de 1e-20 ?\n"
   ]
  },
  {
   "cell_type": "code",
   "execution_count": 3,
   "metadata": {},
   "outputs": [],
   "source": [
    "# Version simple de l'algorithme sans tests ni messages détaillées\n",
    "# L'avantage de cette version est sa lisibilité\n",
    "\n",
    "def bisection(f, a, b, eps = 1e-5, kmax = 1000):\n",
    "    \"\"\"Résolution d'une équation non linéaire par méthode de bisection \n",
    "    \"\"\"\n",
    "    k = 0  \n",
    "    while True:           \n",
    "        x = ( a + b )/2\n",
    "        y = f(x)              \n",
    "        if y == 0:\n",
    "            print(\"convergence : solution exacte atteinte\")\n",
    "            return x, k                          \n",
    "        if f(a) * f(x) < 0:\n",
    "            b = x\n",
    "        else:\n",
    "            a = x            \n",
    "        k += 1        \n",
    "        if np.abs(a-b) <= eps:\n",
    "            print(\"convergence : erreur inférieure à la tolérance\")\n",
    "            return x, k        \n",
    "        if k > kmax:\n",
    "            print(\"convergence : nombre d'itération maximum atteind\")\n",
    "            return x, k"
   ]
  },
  {
   "cell_type": "code",
   "execution_count": 4,
   "metadata": {},
   "outputs": [],
   "source": [
    "# version plus longue avec messages détaillées, vérification des paramètres d'entrée et\n",
    "# quelques modifications pour ne pas répéter les appels à f et optimiser le temps calcul\n",
    "\n",
    "def bisection(f, a, b, eps = 1e-5, kmax = 1000, verbose = False):\n",
    "    \"\"\"Résolution d'une équation non linéaire par méthode de bisection \n",
    "    \n",
    "    Parametres\n",
    "    ----------\n",
    "    f : fonction appelable par python ``f(x)`` \n",
    "        La fonction à résoudre, on cherche x, tel que f(x)=0\n",
    "    a, b : float\n",
    "        Valeur minimum et maximum de x entre lesquelles on cherche une solution    \n",
    "    eps : float\n",
    "        Valeur de l'erreur acceptable sur la solution\n",
    "    kmax : int\n",
    "        Nombre maximum d'itérations\n",
    "        \n",
    "    Retourne\n",
    "    --------\n",
    "    x : float\n",
    "        Valeur x telle que f(x)=0\n",
    "    k : int\n",
    "        Le nombre d'itérations qui ont été nécessaire pour trouver x\n",
    "    \n",
    "    \"\"\"\n",
    "    \n",
    "    if a >= b:\n",
    "        print(\"a doit être strictement inférieur à b\")\n",
    "        return np.NaN, 0\n",
    "    \n",
    "    ya = f(a)\n",
    "    yb = f(b)  \n",
    "\n",
    "    if ya * yb >= 0:\n",
    "        print(\"a et b n'encadre pas un zéro de f\")\n",
    "        return np.NaN, 0\n",
    " \n",
    "    k = 0\n",
    "    \n",
    "    while True:           \n",
    "        x = ( a + b )/2\n",
    "        y = f(x)       \n",
    "        \n",
    "        if y == 0:\n",
    "            if verbose:\n",
    "                print(\" convergence reached: f(x)=0\")\n",
    "            return x, k      \n",
    "            \n",
    "        if verbose:\n",
    "            print(\"iteration:\",k)\n",
    "            print(\"  a:\", a, \"f(a):\", ya)        \n",
    "            print(\"  b:\", b, \"f(b):\", yb)\n",
    "            print(\" => x:\", x, \"f(x):\", y)            \n",
    "            \n",
    "        if ya * y < 0:\n",
    "            b = x\n",
    "            yb = f(b)\n",
    "        else:\n",
    "            a = x\n",
    "            ya = f(a)\n",
    "        \n",
    "        k += 1\n",
    "        \n",
    "        if np.abs(a-b) <= eps:\n",
    "            if verbose:\n",
    "                print(\" convergence : erreur inférieure à la tolérance\")\n",
    "            return x, k\n",
    "        \n",
    "        if k > kmax:\n",
    "            if verbose:\n",
    "                print(\" convergence : nombre d'itération maximum atteind\")\n",
    "            return x, k"
   ]
  },
  {
   "cell_type": "code",
   "execution_count": 5,
   "metadata": {},
   "outputs": [
    {
     "data": {
      "text/plain": [
       "(0.0427, 1001)"
      ]
     },
     "execution_count": 5,
     "metadata": {},
     "output_type": "execute_result"
    }
   ],
   "source": [
    "bisection(f,0.03,1,1e-20)"
   ]
  },
  {
   "cell_type": "markdown",
   "metadata": {},
   "source": [
    "On constate qu'il faut une tolérance inférieure à 1e-4 pour retrouver la valeur donnée par `fsolve`. Le calcul est rapide même avec une tolérance très faible, par ex 1e-20, les 1000 itérations nécessaires sont calculés en quelques fractions de secondes."
   ]
  },
  {
   "cell_type": "markdown",
   "metadata": {},
   "source": [
    "**Exercice 4 - Méthode de Newton**\n",
    "\n",
    "Comme ci-dessus, on vous demande une fonction pour trouver le zéro de la fonction d'état du CO2 mais cette fois-ci avec la méthode de newton.\n",
    "\n",
    "Une petite difficulté dans la méthode de Newton est qu'il vous faut la dérivée en chaque point. Pour la calculer, la fonction `derive()` vous est donné ci-dessous.\n",
    "\n",
    "En combien d'itération obtenez-vous un résultat avec une tolérance de 1e-20 ?"
   ]
  },
  {
   "cell_type": "code",
   "execution_count": 6,
   "metadata": {},
   "outputs": [
    {
     "data": {
      "text/plain": [
       "(0.0427, 7)"
      ]
     },
     "execution_count": 6,
     "metadata": {},
     "output_type": "execute_result"
    }
   ],
   "source": [
    "def derive(f,x,dx=1e-5):\n",
    "    \"\"\"Calcule la dérivée f'(x) centrée au point x par la méthode des incréments.\"\"\"\n",
    "    return ( f( x + dx ) - f( x - dx ) ) / ( 2 * dx )\n",
    "\n",
    "def newton(f, x0, eps = 1e-5, kmax = 1000, verbose = False):\n",
    "    \"\"\"Résolution d'une équation non linéaire par méthode de Newton \n",
    "    \n",
    "    Parametres\n",
    "    ----------\n",
    "    f : fonction appelable par python ``f(x)`` \n",
    "        La fonction à résoudre, on cherche x, tel que f(x)=0\n",
    "    a, b : float\n",
    "        Valeur minimum et maximum de x entre lesquelles on cherche une solution    \n",
    "    eps : float\n",
    "        Valeur de l'erreur acceptable sur la solution\n",
    "    kmax : int\n",
    "        Nombre maximum d'itérations\n",
    "        \n",
    "    Retourne\n",
    "    --------\n",
    "    x : float\n",
    "        Valeur x telle que f(x)=0\n",
    "    k : int\n",
    "        Le nombre d'itérations qui ont été nécessaire pour trouver x\n",
    "    \n",
    "    \"\"\"\n",
    "    \n",
    "    tolerance = eps**2 # Pour éviter de calculer le carré à chaque itération\n",
    "    if verbose:\n",
    "        print(\"valeur initiale:\")\n",
    "        print(\"  x:\",x0,\"f(x):\",f(x0))\n",
    "\n",
    "    for k in range(1,kmax):\n",
    "        step = f(x0)/derive(f,x0) \n",
    "        x1 = x0 - step    \n",
    "        if verbose:\n",
    "            print(\"iteration:\",k)\n",
    "            print(\"  x:\",x1,\"f(x):\",f(x1))  \n",
    "        if step**2 < tolerance:\n",
    "            return x1, k      \n",
    "        x0 = x1\n",
    "    \n",
    "    return x1, it    \n",
    "        \n",
    "newton(f, 0.03, 1e-20)"
   ]
  },
  {
   "cell_type": "markdown",
   "metadata": {},
   "source": [
    "**Exercice 5 - Comparaison des méthodes**\n",
    "\n",
    "Nous cherchons maintenant le zéro de la fonction :\n",
    "\n",
    "$$f(x) = \\sin(2x)-1+x$$\n",
    "\n",
    "Le bloc ci-dessous vous donne la définition de la fonction et le graphe dans l'intervalle $[-3,3]$.\n",
    "\n",
    "On vous demande de comparer les résultats obtenus par :\n",
    "- votre fonction de bisection en partant de l'intervale [-3,3] avec une erreur de 1e-10\n",
    "- votre fonction basée sur la méthode de Newton en partant de $x=2.0$ avec une erreur de 1e-10\n",
    "- la fonction `fsolve` en partant aussi de $x=2.0$\n",
    "\n",
    "Qu'observez-vous ?\n",
    "\n",
    "Essayez la même chose en prenant un point de départ plus proche de la solution."
   ]
  },
  {
   "cell_type": "code",
   "execution_count": 7,
   "metadata": {},
   "outputs": [
    {
     "data": {
      "image/png": "[encoded data removed]",
      "text/plain": [
       "<Figure size 432x288 with 1 Axes>"
      ]
     },
     "metadata": {
      "needs_background": "light"
     },
     "output_type": "display_data"
    }
   ],
   "source": [
    "def f(x):\n",
    "    return  np.sin(2*x) - 1 + x\n",
    "\n",
    "K = np.linspace(-3,3,100)\n",
    "plt.plot(K,f(K))\n",
    "plt.grid('on')\n",
    "plt.xlabel('x')\n",
    "plt.ylabel('f( x )')\n",
    "plt.show()"
   ]
  },
  {
   "cell_type": "code",
   "execution_count": 8,
   "metadata": {},
   "outputs": [
    {
     "data": {
      "text/plain": [
       "(0.35228845654637553, 36)"
      ]
     },
     "execution_count": 8,
     "metadata": {},
     "output_type": "execute_result"
    }
   ],
   "source": [
    "bisection(f,-3,3,1e-10)"
   ]
  },
  {
   "cell_type": "code",
   "execution_count": 9,
   "metadata": {},
   "outputs": [
    {
     "data": {
      "text/plain": [
       "(0.352288456460873, 109)"
      ]
     },
     "execution_count": 9,
     "metadata": {},
     "output_type": "execute_result"
    }
   ],
   "source": [
    "newton(f, 2, 1e-10)"
   ]
  },
  {
   "cell_type": "code",
   "execution_count": 10,
   "metadata": {},
   "outputs": [
    {
     "name": "stderr",
     "output_type": "stream",
     "text": [
      "C:\\Users\\gehrenard\\Anaconda3\\lib\\site-packages\\scipy\\optimize\\minpack.py:175: RuntimeWarning: The iteration is not making good progress, as measured by the \n",
      "  improvement from the last ten iterations.\n",
      "  warnings.warn(msg, RuntimeWarning)\n"
     ]
    },
    {
     "data": {
      "text/plain": [
       "array([2.09421309])"
      ]
     },
     "execution_count": 10,
     "metadata": {},
     "output_type": "execute_result"
    }
   ],
   "source": [
    "fsolve(f, 2)"
   ]
  },
  {
   "cell_type": "code",
   "execution_count": 11,
   "metadata": {},
   "outputs": [
    {
     "data": {
      "text/plain": [
       "(0.352288456460873, 5)"
      ]
     },
     "execution_count": 11,
     "metadata": {},
     "output_type": "execute_result"
    }
   ],
   "source": [
    "newton(f, 0.5, 1e-10)"
   ]
  },
  {
   "cell_type": "code",
   "execution_count": 12,
   "metadata": {},
   "outputs": [
    {
     "data": {
      "text/plain": [
       "array([0.35228846])"
      ]
     },
     "execution_count": 12,
     "metadata": {},
     "output_type": "execute_result"
    }
   ],
   "source": [
    "fsolve(f, 0.5)"
   ]
  },
  {
   "cell_type": "markdown",
   "metadata": {},
   "source": [
    "On constate que dans ce cas, la méthode de bisection est plus efficace que la méthode de Newton. Elle converge plus vite et semble plus stable. La méthode de Newton converge, mais seulement après 108 itération. Ce n'est pas étonnant car les dérivées s'inverse régulièement et le point de départ est assez loin de la solution recherchée.  La fonction `fsolve` s'arrête carrément sans donner de résultat.\n",
    "\n",
    "En revanche, si on part d'une meilleure approximation, par exemple $x=0.5$, alors la méthode de Newton converge très et fsolve aussi.\n",
    "\n",
    "Le message a retenir est que ces techniques sont efficaces mais qu'il faut bien les contraindre et vérifier graphiquement vos calculs pour avoir bien confiance dans le résultat.\n",
    "\n"
   ]
  }
 ],
 "metadata": {
  "kernelspec": {
   "display_name": "Python 3",
   "language": "python",
   "name": "python3"
  },
  "language_info": {
   "codemirror_mode": {
    "name": "ipython",
    "version": 3
   },
   "file_extension": ".py",
   "mimetype": "text/x-python",
   "name": "python",
   "nbconvert_exporter": "python",
   "pygments_lexer": "ipython3",
   "version": "3.8.8"
  }
 },
 "nbformat": 4,
 "nbformat_minor": 4
}
