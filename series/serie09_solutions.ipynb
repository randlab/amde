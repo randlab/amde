{
 "cells": [
  {
   "cell_type": "markdown",
   "metadata": {},
   "source": [
    "# Série 09 - Exercices - Solutions\n",
    "\n",
    "Le but de cette série est de se familiariser avec le  module `numpy.random` pour la génération de nombres aléatoires et son application pour les calculs de propagation d'incertitude."
   ]
  },
  {
   "cell_type": "code",
   "execution_count": 1,
   "metadata": {},
   "outputs": [],
   "source": [
    "import numpy as np\n",
    "import matplotlib.pyplot as plt"
   ]
  },
  {
   "cell_type": "markdown",
   "metadata": {},
   "source": [
    "**Exercice 1**  - Echantillonner des données\n",
    "\n",
    "Utiliser la fonction `random.choice` de `numpy` pour tirer 5 valeurs aléatoire avec remise dans le vecteur `data`"
   ]
  },
  {
   "cell_type": "code",
   "execution_count": 2,
   "metadata": {},
   "outputs": [
    {
     "data": {
      "text/plain": [
       "array([5.2, 7.3, 5.2, 7.3, 7.3])"
      ]
     },
     "execution_count": 2,
     "metadata": {},
     "output_type": "execute_result"
    }
   ],
   "source": [
    "data = [1.2, 4., 5.2, 7.3, 8.9, 10.2]\n",
    "\n",
    "np.random.seed(11029)\n",
    "np.random.choice(data, 5, replace=True)"
   ]
  },
  {
   "cell_type": "markdown",
   "metadata": {},
   "source": [
    "**Exercice 2** - Loi de Bernoulli\n",
    "\n",
    "Soit une variable aléatoire $X$, suivant une loi de Bernoulli :\n",
    "- prend la valeur 1 avec la probabilité $p$\n",
    "- prend la valeur 0 avec la probabilité $1-p$\n",
    "\n",
    "Tirer 15 valeurs aléatoires dans une loi de Bernoulli de probabilité $p=0.35$."
   ]
  },
  {
   "cell_type": "code",
   "execution_count": 3,
   "metadata": {},
   "outputs": [
    {
     "data": {
      "text/plain": [
       "array([0, 1, 0, 0, 1, 1, 0, 1, 0, 0, 0, 1, 0, 0, 1])"
      ]
     },
     "execution_count": 3,
     "metadata": {},
     "output_type": "execute_result"
    }
   ],
   "source": [
    "proba = 0.35\n",
    "np.random.choice([1, 0], 15, p=[proba, 1-proba] )"
   ]
  },
  {
   "cell_type": "markdown",
   "metadata": {},
   "source": [
    "**Exercice 3** - Loi Binomiale\n",
    "\n",
    "Soit une population de 153 individus. Le taux de mortalité est de 0.024.\n",
    "\n",
    "Faire un tirage aléatoire dans une loi binomiale pour simuler le nombre d'individus qui décèdent."
   ]
  },
  {
   "cell_type": "code",
   "execution_count": 4,
   "metadata": {},
   "outputs": [
    {
     "data": {
      "text/plain": [
       "5"
      ]
     },
     "execution_count": 4,
     "metadata": {},
     "output_type": "execute_result"
    }
   ],
   "source": [
    "n = 153\n",
    "proba = 0.024\n",
    "np.random.binomial(n, proba)"
   ]
  },
  {
   "cell_type": "markdown",
   "metadata": {},
   "source": [
    "**Exercice 4** - Loi uniforme\n",
    "\n",
    "Tirer 60 valeurs dans une loi uniforme entre $\\pi$ et $2\\pi$. En faire l'histogramme."
   ]
  },
  {
   "cell_type": "code",
   "execution_count": 5,
   "metadata": {},
   "outputs": [
    {
     "data": {
      "image/png": "[encoded data removed]",
      "text/plain": [
       "<Figure size 432x288 with 1 Axes>"
      ]
     },
     "metadata": {
      "needs_background": "light"
     },
     "output_type": "display_data"
    }
   ],
   "source": [
    "ech_uniform = np.random.uniform( np.pi, 2*np.pi , 60)\n",
    "plt.hist(ech_uniform, density=True);"
   ]
  },
  {
   "cell_type": "markdown",
   "metadata": {},
   "source": [
    "**Exercice 5** - Loi normale\n",
    "\n",
    "Tirer 2'000 valeurs dans une loi gaussienne de moyenne 3.2 et d'écart-type 0.5. Calculer la moyenne et l'écart-type des valeurs tirées pour vérifier que votre tirage est correct."
   ]
  },
  {
   "cell_type": "code",
   "execution_count": 6,
   "metadata": {},
   "outputs": [
    {
     "data": {
      "text/plain": [
       "0.5100783368099979"
      ]
     },
     "execution_count": 6,
     "metadata": {},
     "output_type": "execute_result"
    }
   ],
   "source": [
    "ech_normal = np.random.normal(3.2, 0.5, 2000)\n",
    "np.mean(ech_normal)\n",
    "np.std(ech_normal)"
   ]
  },
  {
   "cell_type": "markdown",
   "metadata": {},
   "source": [
    "**Exercice 6** - Propagation d'incertitude\n",
    "\n",
    "Le débit d'eau $Q$ [m$^3$/s]qui traverse une section d'aquifère est égal à :\n",
    "\n",
    "$$Q = A \\times K  \\times \\frac{h_1-h_0}{L}$$\n",
    "\n",
    "avec:\n",
    "- $A$ [m$^2$] l'aire traversée par l'écoulement\n",
    "- $K$ [m/s] la conductivité hydraulique\n",
    "- $h_1$ et $h_0$ [m] la charge hydraulique en amont et en aval le long d'une ligne de courant perpendiculaire à la section traversée\n",
    "- $L$ [m] la distance entre les deux points de mesures\n",
    "\n",
    "On a mesuré la conductivité hydraulique $K$ sur plusieurs échantillons, ainsi que les facteurs géométriques.\n",
    "\n",
    "On a obtenu les valeurs suivante avec leur incertitudes\n",
    "\n",
    "- $A = 500 \\pm 5 [m^2]$\n",
    "- $Y = \\ln K = -3 \\pm 0.4 [\\ln (m/s)] $ \n",
    "- $h_1 = 7m \\pm 0.2$\n",
    "- $h_0 = 0 [m]$ \n",
    "- $L = 1000 [m]$\n",
    "\n",
    "Déterminer la valeur moyenne de $Q$ et son intervalle de confiance à 95%. \n",
    "\n",
    "On supposera que toutes les incertitudes ci-dessus sont données avec un intervalle de confiance à 95% et que les erreurs sont gaussiennes autour de la valeur centrale donnée.\n",
    "\n",
    "Arrondissez les valeurs pour avoir des chiffres significatifs raisonnables."
   ]
  },
  {
   "cell_type": "code",
   "execution_count": 7,
   "metadata": {},
   "outputs": [
    {
     "data": {
      "image/png": "[encoded data removed]",
      "text/plain": [
       "<Figure size 432x288 with 1 Axes>"
      ]
     },
     "metadata": {
      "needs_background": "light"
     },
     "output_type": "display_data"
    },
    {
     "name": "stdout",
     "output_type": "stream",
     "text": [
      "Débit estimée 0.17749129190459365 m3/s\n",
      "Intervalle de confiance à 95% 0.11791195170739503 - 0.2580857985848611 m3/s\n"
     ]
    }
   ],
   "source": [
    "nsimuls = 10000\n",
    "\n",
    "# Paramètres du problème\n",
    "A = np.random.normal(500,2.5,nsimuls)\n",
    "Y = np.random.normal(-3,.2,nsimuls)\n",
    "K = np.exp(Y)\n",
    "h1 = np.random.normal(7,.1,nsimuls)\n",
    "h0 = 0\n",
    "L = 1000\n",
    "\n",
    "# Application du calcul\n",
    "Q = A * K * (h1 - h0) / L\n",
    "\n",
    "plt.hist(Q, density = True)\n",
    "plt.xlabel('Q en m3/s')\n",
    "plt.show()\n",
    "\n",
    "print(\"Débit estimée\", np.mean(Q),'m3/s')\n",
    "print(\"Intervalle de confiance à 95%\", np.percentile(Q,2.5),'-',np.percentile(Q,97.5),'m3/s')"
   ]
  },
  {
   "cell_type": "markdown",
   "metadata": {},
   "source": [
    "Au final on trouve que le **débit est de l'ordre de 0.18 m/s est qu'il est compris (intervalle de confiance à 95%) entre 0.12 et 0.26 m3/s.**"
   ]
  },
  {
   "cell_type": "code",
   "execution_count": null,
   "metadata": {
    "tags": []
   },
   "outputs": [],
   "source": []
  },
  {
   "cell_type": "code",
   "execution_count": null,
   "metadata": {},
   "outputs": [],
   "source": []
  },
  {
   "cell_type": "markdown",
   "metadata": {},
   "source": [
    "**Exercice 7 - Coexistence de deux espèces** \n",
    "\n",
    "L'une des questions écologiques les plus anciennes et non encore résolues concerne la coexistence de plusieurs espèces. Pour illustrer le problème, vous allez créer un modèle très simple de deux espèces concurrentes. \n",
    "\n",
    "Supposons qu'un écosystème  soit occupé par $𝑁$ individus appartenant à deux espèces. Au début de la simulation, la moitié de ces individus appartient à l'espèce 1 tandis que l'autre moitié appartient à l'espèce 2.\n",
    "\n",
    "On note $𝑁_1( t )$ le nombre d'individus de l'espèce 1 à l'instant $t$ et $𝑁_2( t )$ le nombre d'individus de l'espèce 2 à l'instant $t$.\n",
    "\n",
    "Nous supposons de plus que ces deux espèces ont le même taux de mortalité et qu'une fois qu'un individu meurt, l'espace qu'il occupait est pris par un nouvel individu de l'espèce 1 avec une probabilité qui dépend de la proportion d'individus au temps considéré $P = \\frac{N_1( t)}{N}$ et par l'espèce 2 avec la probabilité $1-P$.\n",
    "\n",
    "Comme la simulation commence avec le même nombre d'individus pour chaque espèce et que ces espèces ont des taux démographiques identiques, on pourrait s'attendre à ce que la coexistence soit garantie. Le but de ce lab est de vérifier si cette hypothèse est correcte.\n",
    "\n",
    "\n",
    "**Partie 1 - Implémentation d'une simulation**\n",
    "\n",
    "Ecrire une fonction qui prennent en entrée la taille de la population initiale $N$, le nombre d'annéee (= nombre de pas de temps) que l'on souhaite simuler, et le taux de mortalité. La fonction renvoie les deux vecteurs  $N_1$ et $N_2$ contenant le nombre d'individus de chacune des populations 1 et 2 simulées pour chaque pas de temps.\n",
    "\n",
    "Comme l'évolution de la population dépend de phénomènes aléatoires (quantité d'individus de chaque espèce qui décèdent, et processus de remplacement des espaces libérés), la fonction doit être aléatoire et doit renvoyer pour chaque appel une simulation stochastique différente qui respecte les probabilités décrites dans l'énoncé.\n",
    "\n",
    "**Pseudo-code**\n",
    "\n",
    " Le programme que vous allez écrire pourrait s'organiser suivant le pseudo-code suivant :\n",
    "\n",
    "- 1) Créer les vecteurs $N_1$ et $N_2$ pour stocker l'évolution du nombre d'individus\n",
    "- 2) Initialiser la population de chaque espèce de manière équilibrée $𝑁_1(t=0) = N/2$, et $𝑁_2(t=0)=N/2$  \n",
    "- 3) Faire une boucle, pour chaque année : \n",
    "    - A) simuler le nombre d'individus qui meurent de chaque espèce (tirage aléatoire suivant la probabilité adaptée)\n",
    "    - B) simuler quelles espèces occuperont chacun des espaces vacants et mettre à jour la population\n",
    "- 4) Retourner les deux vecteurs $N_1$ et $N_2$"
   ]
  },
  {
   "cell_type": "code",
   "execution_count": 1,
   "metadata": {},
   "outputs": [],
   "source": [
    "import numpy as np\n",
    "import matplotlib.pyplot as plt"
   ]
  },
  {
   "cell_type": "code",
   "execution_count": 2,
   "metadata": {},
   "outputs": [],
   "source": [
    "def simul_populations(N,nsteps,mortality):\n",
    "        \n",
    "    N1 = np.zeros(nsteps)\n",
    "    N2 = np.zeros(nsteps)\n",
    "    \n",
    "    N1[0] = N/2\n",
    "    N2[0] = N/2\n",
    "\n",
    "    for i in range(1,nsteps):\n",
    "\n",
    "        dead1 = np.random.binomial(N1[i-1], mortality)\n",
    "        dead2 = np.random.binomial(N2[i-1], mortality)\n",
    "\n",
    "        deads = dead1 + dead2\n",
    "\n",
    "        new1 = np.random.binomial(deads, N1[i-1]/N)\n",
    "        new2 = deads - new1\n",
    "\n",
    "        N1[i] = N1[i-1] - dead1 + new1\n",
    "        N2[i] = N2[i-1] - dead2 + new2   \n",
    "\n",
    "    return N1, N2"
   ]
  },
  {
   "cell_type": "markdown",
   "metadata": {},
   "source": [
    "### Utilisation de la fonction\n",
    "\n",
    "- Utiliser votre fonction pour calculer l'évolution d'une population contenant 10'000 individus au total, sur une période de 30'000 ans. Le taux de mortalité est de 0.35.\n",
    "- Faire un graphe montrant l'évolution des deux populations en fonction du temps. \n",
    "- Répétez le calcul en exécutant plusieurs fois la cellule du notebook pour vérifier que la fonction donne bien un résultat stochastique.\n",
    "- Commentez le résultat."
   ]
  },
  {
   "cell_type": "code",
   "execution_count": 8,
   "metadata": {},
   "outputs": [
    {
     "data": {
      "image/png": "[encoded data removed]",
      "text/plain": [
       "<Figure size 432x288 with 1 Axes>"
      ]
     },
     "metadata": {
      "needs_background": "light"
     },
     "output_type": "display_data"
    }
   ],
   "source": [
    "N = 10000\n",
    "nsteps = 30000\n",
    "mortality = 0.35\n",
    "\n",
    "N1, N2 = simul_populations(N,nsteps,mortality)\n",
    "\n",
    "plt.plot(N1)\n",
    "plt.plot(N2)\n",
    "plt.show()"
   ]
  },
  {
   "cell_type": "markdown",
   "metadata": {},
   "source": [
    "**Commentaires** \n",
    "\n",
    "On constate que suivant les simulations plusieurs cas sont possibles. Soit l'une ou l'autre des espèces disparait et l'autre envahie tout l'écosystème, soit on a des fluctuations autour de l'équilibre. \n",
    "\n",
    "Des oscilations aparaissent et il n'est pas évident de savoir quelle espèce va dominer en regardant l'évolution pendant les premières années."
   ]
  },
  {
   "cell_type": "code",
   "execution_count": 8,
   "metadata": {},
   "outputs": [
    {
     "name": "stdout",
     "output_type": "stream",
     "text": [
      "Merci d'être patient, je simule... :-)\n",
      "simul #-0,simul #-1,simul #-2,simul #-3,simul #-4,simul #-5,simul #-6,simul #-7,simul #-8,simul #-9,simul #-10,simul #-11,simul #-12,simul #-13,simul #-14,simul #-15,simul #-16,simul #-17,simul #-18,simul #-19,simul #-20,simul #-21,simul #-22,simul #-23,simul #-24,simul #-25,simul #-26,simul #-27,simul #-28,simul #-29,simul #-30,simul #-31,simul #-32,simul #-33,simul #-34,simul #-35,simul #-36,simul #-37,simul #-38,simul #-39,simul #-40,simul #-41,simul #-42,simul #-43,simul #-44,simul #-45,simul #-46,simul #-47,simul #-48,simul #-49,simul #-50,simul #-51,simul #-52,simul #-53,simul #-54,simul #-55,simul #-56,simul #-57,simul #-58,simul #-59,simul #-60,simul #-61,simul #-62,simul #-63,simul #-64,simul #-65,simul #-66,simul #-67,simul #-68,simul #-69,simul #-70,simul #-71,simul #-72,simul #-73,simul #-74,simul #-75,simul #-76,simul #-77,simul #-78,simul #-79,simul #-80,simul #-81,simul #-82,simul #-83,simul #-84,simul #-85,simul #-86,simul #-87,simul #-88,simul #-89,simul #-90,simul #-91,simul #-92,simul #-93,simul #-94,simul #-95,simul #-96,simul #-97,simul #-98,simul #-99,Voila, c'est fini !\n"
     ]
    }
   ],
   "source": [
    "ns = 100\n",
    "f = np.zeros((ns, 1))\n",
    "\n",
    "print(\"Merci d'être patient, je simule... :-)\")\n",
    "for k in range(ns):\n",
    "    \n",
    "    print(f\"simul #-{k},\", end='')\n",
    "    N1, N2 = simul_populations(N, nsteps, mortality)\n",
    "    if N1[-1] * N2[-1] == 0:\n",
    "        f[k] = 1\n",
    "        \n",
    "print(\"Voila, c'est fini !\")"
   ]
  },
  {
   "cell_type": "code",
   "execution_count": 10,
   "metadata": {},
   "outputs": [
    {
     "data": {
      "image/png": "[encoded data removed]",
      "text/plain": [
       "<Figure size 432x288 with 1 Axes>"
      ]
     },
     "metadata": {
      "needs_background": "light"
     },
     "output_type": "display_data"
    }
   ],
   "source": [
    "proba_disparition = np.sum(f)/ns\n",
    "proba_equilibrium = 1 - proba_disparition \n",
    "plt.bar(0,proba_equilibrium,label=\"equilibre\")\n",
    "plt.bar(1,proba_disparition,label=\"une espèce disparait\")\n",
    "plt.legend()\n",
    "plt.show()"
   ]
  },
  {
   "cell_type": "markdown",
   "metadata": {
    "jupyter": {
     "source_hidden": true
    },
    "tags": []
   },
   "source": [
    "## Partie 2 - Analyse statistique des résultats\n",
    "\n",
    "Pour se faire une meilleure idée du comportement global de ce système, nous allons répéter l'expérience de nombreuses fois et estimer la proportion de cas où l'une des espèces disparait et les cas où les deux espèces continuent de cohabiter à la fin des 30'000 ans.\n",
    "\n",
    "Pour cela, répétez la simulation de nombreuses fois (une dizaine, ou centaine de fois ou plus). Pour chaque simulation stockez uniquement dans un tableau un code vous permettant de savoir si à la fin de la simulation on est dans une situation d'équilibre ou si une espèce à disparu.\n",
    "\n",
    "Analysez ensuite votre tableau pour calculer la probabilité d'obtenir un équilibre ou au contraire dans une situation où l'une des deux espèces disparait.\n",
    "\n",
    "Quelles sont ces probabilités ? Faites un graphe représentant ces probabilités ? \n",
    "\n",
    "Commentez votre résultat. Quel mécanisme faudrait-il ajouter dans le système naturel pour favoriser la co-existence ?"
   ]
  },
  {
   "cell_type": "code",
   "execution_count": null,
   "metadata": {},
   "outputs": [],
   "source": []
  },
  {
   "cell_type": "code",
   "execution_count": null,
   "metadata": {},
   "outputs": [],
   "source": []
  }
 ],
 "metadata": {
  "kernelspec": {
   "display_name": "Python 3",
   "language": "python",
   "name": "python3"
  },
  "language_info": {
   "codemirror_mode": {
    "name": "ipython",
    "version": 3
   },
   "file_extension": ".py",
   "mimetype": "text/x-python",
   "name": "python",
   "nbconvert_exporter": "python",
   "pygments_lexer": "ipython3",
   "version": "3.8.8"
  }
 },
 "nbformat": 4,
 "nbformat_minor": 4
}
