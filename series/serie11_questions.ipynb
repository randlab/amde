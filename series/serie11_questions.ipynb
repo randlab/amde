{
 "cells": [
  {
   "cell_type": "markdown",
   "metadata": {},
   "source": [
    "# Série 11 - Exercices - Questions\n",
    "\n",
    "Dans cette série d'exercice, on reprend les exemples traités lors de la série précédente, mais on complète le travail en estimant l'incertitude sur les paramètres du modèle.\n"
   ]
  },
  {
   "cell_type": "markdown",
   "metadata": {},
   "source": [
    "**Exercice 1** - Incertitude sur l'âge du système solaire\n",
    "\n",
    "On vous demande de reprendre les calculs fait dans la série 10, en estimant en plus l'incertitude sur l'âge.\n",
    "\n",
    "Pour rappel :\n",
    "- Le fichier `eucrites.txt` contient en première colonne contient le rapport isotopique 87Rb/86Sr et en deuxième colonne le rapport 87Sr/86Sr.\n",
    "- On note $a$ la pente de la droite de régression\n",
    "- La constante de désintégration du Rubidium 87 vaut $\\lambda = 1.393 \\times 10^{-11} an^{-1}$\n",
    "- L'âge  s'obtient avec $t =\\frac{ \\log( a + 1)}{\\lambda} $.\n",
    "\n",
    "**Remarque** : Attention, le calcul de l'âge se fait avec une transformée non linéaire (un logarithme) de la pente. A partir de l'analyse de la régression, vous allez trouver la pente moyenne et sa variance. Pour trouver l'intervalle de confiance sur l'âge, vous pouvez utiliser la méthode de Monte-Carlo: simuler des valeurs de pente dans la loi gaussienne de moyenne et de variance obtenue par la régression, puis calculer l'âge et en déduire l'intervalle de confiance."
   ]
  },
  {
   "cell_type": "code",
   "execution_count": 3,
   "metadata": {},
   "outputs": [],
   "source": [
    "import numpy as np\n",
    "import matplotlib.pyplot as plt"
   ]
  },
  {
   "cell_type": "code",
   "execution_count": 30,
   "metadata": {},
   "outputs": [],
   "source": []
  },
  {
   "cell_type": "markdown",
   "metadata": {},
   "source": [
    "**Exercice 2** - Graphe avec intervalle de confiance\n",
    "\n",
    "Faire le graphe correspondant aux données d'Eucrites en représentant l'intervalle de confiance sur la droite estimée."
   ]
  },
  {
   "cell_type": "code",
   "execution_count": null,
   "metadata": {},
   "outputs": [],
   "source": []
  },
  {
   "cell_type": "markdown",
   "metadata": {},
   "source": [
    "**Exercice 3** - Régression non linéaire\n",
    "\n",
    "Nous reprenons maintenant l'exemple de la population de bactérie. Le code ci-dessous refait les étapes de la semaine dernière. Il calcule par la méthode des moindres carrés dans le cas non linéaire, le vecteur de paramètre optimal $p$, mais renvoie également la covariance des paramètres $C_p$"
   ]
  },
  {
   "cell_type": "code",
   "execution_count": 4,
   "metadata": {},
   "outputs": [
    {
     "data": {
      "image/png": "[encoded data removed]",
      "text/plain": [
       "<Figure size 432x288 with 1 Axes>"
      ]
     },
     "metadata": {
      "needs_background": "light"
     },
     "output_type": "display_data"
    }
   ],
   "source": [
    "from scipy import optimize\n",
    "\n",
    "# La fonction logistique\n",
    "def logistique(t, n0, nmax, r):\n",
    "    c = (nmax - n0) / n0\n",
    "    return nmax / (1 + c * np.exp(-r * t))\n",
    "\n",
    "# Les données\n",
    "t = np.array((0.3,0.5,0.72,0.8,1,1.2,1.5,1.8,2,2.3,2.5,2.7,3)) # Temps en jours\n",
    "n = np.array((46,70,98,110,135,157,163,166,182,170,174,167,186)) # Nombres de bactéries\n",
    "\n",
    "# Optimisation non linéaire pour identifier les paramètres du modèle\n",
    "p, Cp = optimize.curve_fit(logistique, t, n, p0=[10, 180, 2])\n",
    "\n",
    "# Représentation du résultat\n",
    "yc = logistique(t, *p)\n",
    "plt.plot(t,n,'o')\n",
    "plt.plot(t,yc,'-')\n",
    "plt.ylabel('Nombre de bactéries')\n",
    "plt.xlabel('Nombre de jours')\n",
    "plt.show()"
   ]
  },
  {
   "cell_type": "markdown",
   "metadata": {},
   "source": [
    "Que valent les intervalles de confiance sur chacun des paramètres ? **Etendre le code ci-dessous pour afficher ces intervalles de confiance**."
   ]
  },
  {
   "cell_type": "code",
   "execution_count": 8,
   "metadata": {},
   "outputs": [
    {
     "name": "stdout",
     "output_type": "stream",
     "text": [
      "Paramètres identifiés:\n",
      " pop. initiale        :  20.10,\n",
      " pop. maximale        : 175.54,\n",
      " taux de croissance   :   3.24,\n"
     ]
    }
   ],
   "source": [
    "name_param = [\"pop. initiale\", \"pop. maximale\", \"taux de croissance\"]\n",
    "print(\"Paramètres identifiés:\")\n",
    "for i in range(len(p)):\n",
    "    print(f\" {name_param[i]:20s} : {p[i]:6.2f},\")"
   ]
  },
  {
   "cell_type": "markdown",
   "metadata": {},
   "source": [
    "**Exercice 4** - Graphe avec intervalle de confiance\n",
    "\n",
    "Utiliser un ensemble de simulations des paramètres pour calculer et représenter l'intervalle de confiance sur le nombre de bactérie en fonction du temps."
   ]
  },
  {
   "cell_type": "code",
   "execution_count": null,
   "metadata": {},
   "outputs": [],
   "source": []
  }
 ],
 "metadata": {
  "kernelspec": {
   "display_name": "Python 3",
   "language": "python",
   "name": "python3"
  },
  "language_info": {
   "codemirror_mode": {
    "name": "ipython",
    "version": 3
   },
   "file_extension": ".py",
   "mimetype": "text/x-python",
   "name": "python",
   "nbconvert_exporter": "python",
   "pygments_lexer": "ipython3",
   "version": "3.8.8"
  }
 },
 "nbformat": 4,
 "nbformat_minor": 4
}
