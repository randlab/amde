{
 "cells": [
  {
   "cell_type": "markdown",
   "metadata": {},
   "source": [
    "# Série 7 - Exercices - Solution\n",
    "\n",
    "Dans cette série d'exercice, nous allons analyser une partie d'un jeu de donnée collecté à la Chaux-de Fonds à l'aide de statistiques univariées. \n",
    "\n",
    "Ce jeu de donnée contient des analyses de quantités de métaux lourds mesurés dans des échantillons de sol à l'Est de la Chaux-de-Fond. Le jeu de donnée contient aussi des informations sur le type de géologie et le type d'utilisation du territoire au point de prélèvement.\n",
    "\n",
    "Les données sont fournies dans le fichier `SolChauxDeFond.txt`.\n",
    "\n",
    "Chaque ligne correspond à un échantillon, chaque ligne contient dans l'ordre les variables suivantes : `X Y Z Cd Co Cr Cu Geology Landuse Ni Pb Zn`. Les trois premières colonnes correspondent aux coordonnées de l'échantillon. On a ensuite, des teneurs en Cadmium, Cobal, Chrome, Cuivre. Puis un code pour la géologie et le type d'utilisation du sol, et enfin les teneurs en Nickel, Plomb et Zinc.\n",
    "\n",
    "Les concentrations sont données en mg par kg."
   ]
  },
  {
   "cell_type": "markdown",
   "metadata": {},
   "source": [
    "**Exercice 1 - Chargement des données et histogrammes**\n",
    "\n",
    "Charger les données, extraire les colonnes correspondants aux Cobalt et au Chrome. \n",
    "\n",
    "Représenter l'histogramme de ces deux jeux de données (en densité de probabilité). Essayer de mettre les deux histogrammes sur la même figure. Mettez les légendes sur les axes et pour les histogrammes. Le paramètre `alpha` peut être utilisé pour rendre les histogrammes partiellement transparents. La valeur de alpha est un degré d'opacité compris entre 0 (complètement transparent) et 1 (complètement opaque). La syntaxe est du type `plt.hist(data,alpha=0.8)`.\n",
    "\n",
    "Sur la base de votre analyse visuelle de la figure obtenue, indiquer quel métaux lourd présente la plus forte moyenne et la plus forte variance. "
   ]
  },
  {
   "cell_type": "code",
   "execution_count": 1,
   "metadata": {},
   "outputs": [],
   "source": []
  },
  {
   "cell_type": "markdown",
   "metadata": {},
   "source": [
    "**Exercice 2 - Histogrammes cumulés** \n",
    "\n",
    "Faire un histogramme cumulé avec 100 classes de valeurs comprises entre 0 et 80, pour chaque jeux de données. Indiquez correctement les légendes sur les axes des deux figures."
   ]
  },
  {
   "cell_type": "code",
   "execution_count": null,
   "metadata": {},
   "outputs": [],
   "source": []
  },
  {
   "cell_type": "markdown",
   "metadata": {},
   "source": [
    "**Exercice 3 - Statistiques descriptives**\n",
    "\n",
    "Ecrivez une fonction qui prend en entrée un tableau de valeurs (numpy array, calcule les statistiques descriptives de base, et les imprime.\n",
    "\n",
    "Appliquer cette fonction pour calculer les statistiques de vos deux jeux de données.\n",
    "\n",
    "Est-ce que vous observations précédentes sont confirmées? Avez-vous bien des valeurs qui correspondent à votre interprétation des graphes ?"
   ]
  },
  {
   "cell_type": "code",
   "execution_count": 5,
   "metadata": {},
   "outputs": [],
   "source": []
  },
  {
   "cell_type": "markdown",
   "metadata": {},
   "source": [
    "**Exercice 4 - Boîtes à moustache**\n",
    "\n",
    "Faire une figure avec les boites à moustaches permettant de comparer visuellement les statistiques de la concentration en Cobalt et en Chrome.\n"
   ]
  },
  {
   "cell_type": "code",
   "execution_count": null,
   "metadata": {},
   "outputs": [],
   "source": []
  }
 ],
 "metadata": {
  "kernelspec": {
   "display_name": "Python 3",
   "language": "python",
   "name": "python3"
  },
  "language_info": {
   "codemirror_mode": {
    "name": "ipython",
    "version": 3
   },
   "file_extension": ".py",
   "mimetype": "text/x-python",
   "name": "python",
   "nbconvert_exporter": "python",
   "pygments_lexer": "ipython3",
   "version": "3.8.3"
  }
 },
 "nbformat": 4,
 "nbformat_minor": 4
}
