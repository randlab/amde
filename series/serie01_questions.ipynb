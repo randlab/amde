{
 "cells": [
  {
   "cell_type": "markdown",
   "metadata": {},
   "source": [
    "# Vérification de connaissance - Série 1\n",
    "\n",
    "Pour tester par vous même que vous avez bien acquis les points principaux de ce premier cours, voici quelques exercices d'entrainement."
   ]
  },
  {
   "cell_type": "markdown",
   "metadata": {},
   "source": [
    "**Exercice 1**\n",
    "\n",
    "1.  Quelle touche ou combinaison de touches devez-vous utiliser pour exécuter une cellule dans un notebook jupyter ?\n",
    "2. Quelle touche ou combinaison de touches devez-vous utiliser pour créer une cellule en dessous d'une cellule existante dans un notebook ?\n",
    "3. Quelle touche ou combinaison de touches devez-vous utiliser pour effacer une cellule dans un notebook ?\n",
    "4. Quelle est la commande magique permettant d'obtenir la liste des variables et objets actuellement stockés dans l'espace mémoire du notebook ?"
   ]
  },
  {
   "cell_type": "code",
   "execution_count": null,
   "metadata": {},
   "outputs": [],
   "source": []
  },
  {
   "cell_type": "markdown",
   "metadata": {},
   "source": [
    "**Exercice 2** Créez les deux tableaux numpy contenant les valeurs suivantes : \n",
    "\n",
    "$$ a = \\left[ \\begin{array}{ccc} 2 &  3  & 6 \\\\ 1 & 1 & 0 \\\\ 5 & 1 & 0 \\end{array}  \\right] $$\n",
    "\n",
    "$$ b = \\left[ \\begin{array}{ccc} 1 &  0  & -2 \\\\ -1 & 1 & 0 \\\\ 0 & 1 & 0 \\end{array}  \\right] $$\n",
    "\n",
    "Calculez le produit terme à terme de $a$ et $b$, puis le produit matriciel de $a$ et $b$"
   ]
  },
  {
   "cell_type": "code",
   "execution_count": null,
   "metadata": {},
   "outputs": [],
   "source": []
  },
  {
   "cell_type": "markdown",
   "metadata": {},
   "source": [
    "**Exercice 3** Créez un tableau numpy contenant les valeurs suivantes : \n",
    "    \n",
    "$$ b = \\left[ \\begin{array}{ccccc} \n",
    "            1 & 1 & 2 & 3 & 1 \\\\ \n",
    "            1 & 1 & 2 & 3 & 1 \\\\ \n",
    "            1 & 1 & 2 & 3 & 1 \\\\ \n",
    "            1 & 1 & 2 & 3 & 1 \\\\ \n",
    "            1 & 1 & 2 & 3 & 1 \\\\ \n",
    "            1 & 1 & 2 & 3 & 1 \\\\ \n",
    "            0 & 0 & 0 & 0 & 0 \\\\             \n",
    "            \\end{array}  \\right] $$"
   ]
  },
  {
   "cell_type": "code",
   "execution_count": null,
   "metadata": {},
   "outputs": [],
   "source": []
  },
  {
   "cell_type": "markdown",
   "metadata": {},
   "source": [
    "**Exercice 4** La matrice $c$ est égale au produit entre la matrice transposée de $b$ et $b$. Faites le calcul, que vaut $c$ ?"
   ]
  },
  {
   "cell_type": "code",
   "execution_count": null,
   "metadata": {},
   "outputs": [],
   "source": []
  },
  {
   "cell_type": "markdown",
   "metadata": {},
   "source": [
    "**Exercice 5**. Créez un tableau unidimensionnel $x$ qui contient exactement 20 valeurs commençant à 0.3 et se terminant à 4 $\\pi$."
   ]
  },
  {
   "cell_type": "code",
   "execution_count": null,
   "metadata": {},
   "outputs": [],
   "source": []
  },
  {
   "cell_type": "markdown",
   "metadata": {},
   "source": [
    "**Exercice 6**. Créez un tableau bidimensionnel ou matrice $m$ qui contient :\n",
    "- dans sa première colonne les valeurs de $\\cos(x)$ \n",
    "- dans sa deuxième colonne les valeurs de $\\sin(x)$, \n",
    "- dans sa troisième colonne des 1\n",
    "\n",
    "avec $x$ le vecteur calculés dans la question précédente."
   ]
  },
  {
   "cell_type": "code",
   "execution_count": null,
   "metadata": {},
   "outputs": [],
   "source": []
  },
  {
   "cell_type": "markdown",
   "metadata": {},
   "source": [
    "**Exercice 7**. Faire un graphe de la fonction \n",
    "$$f(x) = \\frac{x^3}{6}\\cdot \\cos\\left[ \\sin(x)\\right] \\cdot \\exp(-x) + \\left( \\frac{1}{1+x}\\right)^2 $$\n",
    "\n",
    "pour $x \\in [1,20]$"
   ]
  },
  {
   "cell_type": "code",
   "execution_count": null,
   "metadata": {},
   "outputs": [],
   "source": []
  }
 ],
 "metadata": {
  "kernelspec": {
   "display_name": "Python 3",
   "language": "python",
   "name": "python3"
  },
  "language_info": {
   "codemirror_mode": {
    "name": "ipython",
    "version": 3
   },
   "file_extension": ".py",
   "mimetype": "text/x-python",
   "name": "python",
   "nbconvert_exporter": "python",
   "pygments_lexer": "ipython3",
   "version": "3.8.8"
  }
 },
 "nbformat": 4,
 "nbformat_minor": 4
}
