{
 "cells": [
  {
   "cell_type": "markdown",
   "metadata": {},
   "source": [
    "# Série 7 - Exercices - Solution\n",
    "\n",
    "Dans cette série d'exercice, nous allons analyser une partie d'un jeu de donnée collecté à la Chaux-de Fonds à l'aide de statistiques univariées. \n",
    "\n",
    "Ce jeu de donnée contient des analyses de quantités de métaux lourds mesurés dans des échantillons de sol à l'Est de la Chaux-de-Fond. Le jeu de donnée contient aussi des informations sur le type de géologie et le type d'utilisation du territoire au point de prélèvement.\n",
    "\n",
    "Les données sont fournies dans le fichier `SolChauxDeFond.txt`.\n",
    "\n",
    "Chaque ligne correspond à un échantillon, chaque ligne contient dans l'ordre les variables suivantes : `X Y Z Cd Co Cr Cu Geology Landuse Ni Pb Zn`. Les trois premières colonnes correspondent aux coordonnées de l'échantillon. On a ensuite, des teneurs en Cadmium, Cobal, Chrome, Cuivre. Puis un code pour la géologie et le type d'utilisation du sol, et enfin les teneurs en Nickel, Plomb et Zinc.\n",
    "\n",
    "Les concentrations sont données en mg par kg."
   ]
  },
  {
   "cell_type": "markdown",
   "metadata": {},
   "source": [
    "**Exercice 1 - Chargement des données et histogrammes**\n",
    "\n",
    "Charger les données, extraire les colonnes correspondants aux Cobalt et au Chrome. \n",
    "\n",
    "Représenter l'histogramme de ces deux jeux de données (en densité de probabilité). Essayer de mettre les deux histogrammes sur la même figure. Mettez les légendes sur les axes et pour les histogrammes. Le paramètre `alpha` peut être utilisé pour rendre les histogrammes partiellement transparents. La valeur de alpha est un degré d'opacité compris entre 0 (complètement transparent) et 1 (complètement opaque). La syntaxe est du type `plt.hist(data,alpha=0.8)`.\n",
    "\n",
    "Sur la base de votre analyse visuelle de la figure obtenue, indiquer quel métaux lourd présente la plus forte moyenne et la plus forte variance. "
   ]
  },
  {
   "cell_type": "code",
   "execution_count": 1,
   "metadata": {},
   "outputs": [],
   "source": [
    "import numpy as np\n",
    "import matplotlib.pyplot as plt"
   ]
  },
  {
   "cell_type": "code",
   "execution_count": 2,
   "metadata": {},
   "outputs": [],
   "source": [
    "data = np.loadtxt('data/SolChauxDeFond.txt',skiprows=1)\n",
    "co, cr = data[:,4], data[:,5]"
   ]
  },
  {
   "cell_type": "code",
   "execution_count": 3,
   "metadata": {},
   "outputs": [
    {
     "data": {
      "image/png": "[encoded data removed]",
      "text/plain": [
       "<Figure size 432x288 with 1 Axes>"
      ]
     },
     "metadata": {
      "needs_background": "light"
     },
     "output_type": "display_data"
    }
   ],
   "source": [
    "plt.hist(cr, density=True, alpha=0.5, label='Chrome')\n",
    "plt.hist(co, density=True, alpha=0.5, label='Cobalt')\n",
    "plt.legend()\n",
    "plt.xlabel('Concentration en [mg/kg]')\n",
    "plt.ylabel('Densité de probabilité')\n",
    "plt.show()"
   ]
  },
  {
   "cell_type": "markdown",
   "metadata": {},
   "source": [
    "**Remarque:** On observe sur la figure que le Cobalt a une distribution plus étroite (variance plus faible) avec une moyenne également plus faible. On note que les deux distributions sont assez symmétriques."
   ]
  },
  {
   "cell_type": "markdown",
   "metadata": {},
   "source": [
    "**Exercice 2 - Histogrammes cumulés** \n",
    "\n",
    "Faire un histogramme cumulé avec 100 classes de valeurs comprises entre 0 et 80, pour chaque jeux de données. Indiquez correctement les légendes sur les axes des deux figures."
   ]
  },
  {
   "cell_type": "code",
   "execution_count": 4,
   "metadata": {},
   "outputs": [
    {
     "data": {
      "image/png": "[encoded data removed]",
      "text/plain": [
       "<Figure size 432x288 with 1 Axes>"
      ]
     },
     "metadata": {
      "needs_background": "light"
     },
     "output_type": "display_data"
    },
    {
     "data": {
      "image/png": "[encoded data removed]",
      "text/plain": [
       "<Figure size 432x288 with 1 Axes>"
      ]
     },
     "metadata": {
      "needs_background": "light"
     },
     "output_type": "display_data"
    }
   ],
   "source": [
    "plt.hist(cr, bins=100, range=[0,80], density=True, cumulative=True)\n",
    "plt.xlabel('Concentration en Chrome en [mg/kg]')\n",
    "plt.ylabel('Densité de probabilité')\n",
    "plt.show()\n",
    "\n",
    "plt.hist(co, bins=100, range=[0,80], density=True, cumulative=True)\n",
    "plt.xlabel('Concentration en Cobalt en [mg/kg]')\n",
    "plt.ylabel('Densité de probabilité')\n",
    "plt.show()"
   ]
  },
  {
   "cell_type": "markdown",
   "metadata": {},
   "source": [
    "**Exercice 3 - Statistiques descriptives**\n",
    "\n",
    "Ecrivez une fonction qui prend en entrée un tableau de valeurs (numpy array, calcule les statistiques descriptives de base, et les imprime.\n",
    "\n",
    "Appliquer cette fonction pour calculer les statistiques de vos deux jeux de données.\n",
    "\n",
    "Est-ce que vous observations précédentes sont confirmées? Avez-vous bien des valeurs qui correspondent à votre interprétation des graphes ?"
   ]
  },
  {
   "cell_type": "code",
   "execution_count": 5,
   "metadata": {},
   "outputs": [],
   "source": [
    "def stat_descriptives(x):\n",
    "    n = len(x)\n",
    "    x_max = np.max(x)\n",
    "    x_min = np.min(x)\n",
    "    x_moy = np.mean(x)\n",
    "    x_var = np.var(x, ddof=1)\n",
    "    x_std = np.std(x, ddof=1)\n",
    "    x_p25, x_med, x_p75 = np.percentile(x, [25,50,75])\n",
    "    print('Nb mesures:', n)\n",
    "    print(f'Maximum:{x_max:6.2f}')\n",
    "    print(f'P75:{x_p75:6.2f}')\n",
    "    print(f'Moyenne:{x_moy:6.2f}')\n",
    "    print(f'Mediane:{x_med:6.2f}')\n",
    "    print(f'P25:{x_p25:6.2f}')\n",
    "    print(f'Minimum:{x_min:6.2f}')\n",
    "    print(f'Variance:{x_var:6.2f}')\n",
    "    print(f'Ecart-type:{x_std:6.2f}')"
   ]
  },
  {
   "cell_type": "code",
   "execution_count": 6,
   "metadata": {},
   "outputs": [
    {
     "name": "stdout",
     "output_type": "stream",
     "text": [
      "Nb mesures: 359\n",
      "Maximum: 20.60\n",
      "P75: 12.10\n",
      "Moyenne:  9.44\n",
      "Mediane:  9.84\n",
      "P25:  6.66\n",
      "Minimum:  1.55\n",
      "Variance: 12.73\n",
      "Ecart-type:  3.57\n"
     ]
    }
   ],
   "source": [
    "stat_descriptives(co)"
   ]
  },
  {
   "cell_type": "code",
   "execution_count": 7,
   "metadata": {},
   "outputs": [
    {
     "name": "stdout",
     "output_type": "stream",
     "text": [
      "Nb mesures: 359\n",
      "Maximum: 70.00\n",
      "P75: 41.46\n",
      "Moyenne: 35.02\n",
      "Mediane: 34.80\n",
      "P25: 27.64\n",
      "Minimum:  3.32\n",
      "Variance:113.69\n",
      "Ecart-type: 10.66\n"
     ]
    }
   ],
   "source": [
    "stat_descriptives(cr)"
   ]
  },
  {
   "cell_type": "markdown",
   "metadata": {},
   "source": [
    "**Observations:** Comme vu sur les figures, on a bien la moyenne de la concentration en Cobalt qui est plus faible que celle pour le chrome, de même les écarts-type et variance du Cobalt sont plus faibles que pour le Chrome."
   ]
  },
  {
   "cell_type": "markdown",
   "metadata": {},
   "source": [
    "**Exercice 4 - Boîtes à moustache**\n",
    "\n",
    "Faire une figure avec les boites à moustaches permettant de comparer visuellement les statistiques de la concentration en Cobalt et en Chrome.\n"
   ]
  },
  {
   "cell_type": "code",
   "execution_count": 8,
   "metadata": {},
   "outputs": [
    {
     "data": {
      "image/png": "[encoded data removed]",
      "text/plain": [
       "<Figure size 432x288 with 1 Axes>"
      ]
     },
     "metadata": {
      "needs_background": "light"
     },
     "output_type": "display_data"
    }
   ],
   "source": [
    "plt.boxplot([co, cr], labels=['Cobalt', 'Chrome'], \n",
    "            widths=0.3, notch=True, vert=False)\n",
    "plt.xlabel('Concentration en [mg/kg]')\n",
    "plt.show()"
   ]
  }
 ],
 "metadata": {
  "kernelspec": {
   "display_name": "Python 3",
   "language": "python",
   "name": "python3"
  },
  "language_info": {
   "codemirror_mode": {
    "name": "ipython",
    "version": 3
   },
   "file_extension": ".py",
   "mimetype": "text/x-python",
   "name": "python",
   "nbconvert_exporter": "python",
   "pygments_lexer": "ipython3",
   "version": "3.8.8"
  }
 },
 "nbformat": 4,
 "nbformat_minor": 4
}
