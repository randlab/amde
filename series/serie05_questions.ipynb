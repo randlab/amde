{
 "cells": [
  {
   "cell_type": "markdown",
   "metadata": {},
   "source": [
    "# Série 5 - Interpolation en une dimension\n",
    "\n",
    "Le but de cette série est de vous entrainer à vous servir des techniques d'interpolation en une dimension. On utilisera essentiellement la fonction `interp1d` du module `scipy.interpolate`."
   ]
  },
  {
   "cell_type": "markdown",
   "metadata": {},
   "source": [
    "# Courbe de tarage \n",
    "\n",
    "Pour mesurer efficacement le débit de source, on mesure en général le niveau d'eau en amont d'un seuil hydraulique. En effet la mesure du débit est en général longue et fastidieuse quelle que soit la méthode employée (micromoulinet, traçage, etc.). Pour traduire le niveau d'eau en un débit, on mesure simultanément le débit et le niveau d'eau dans différentes situations hydrologiques. Les données sont des valeurs ponctuelles. Le but de l'exercice est de trouver une fonction qui permet d'estimer le débit pour toute valeur du niveau d'eau.\n",
    "\n",
    "Le jeu de donnée suivant donne les valeurs de niveaux d'eau mesurées en [m] dans le tableau `xd`  et les données de débit en [$m^3/s$] correspondantes dans le tableau `yd`. Le graphe représente les données."
   ]
  },
  {
   "cell_type": "code",
   "execution_count": null,
   "metadata": {},
   "outputs": [],
   "source": [
    "import numpy as np\n",
    "import matplotlib.pyplot as plt\n",
    "\n",
    "xd = np.array( [0, 0.150, 0.37, 0.56, 0.9, 1.05] ) \n",
    "yd = np.array( [0, 0.08,  1.24, 4.45, 10.8, 14.45] )\n",
    "\n",
    "plt.plot(xd, yd,'o', label='Mesures')\n",
    "plt.xlabel('h [m]')\n",
    "plt.ylabel('q [m3/s]')\n",
    "plt.grid('on')\n",
    "plt.legend()\n",
    "plt.show()"
   ]
  },
  {
   "cell_type": "markdown",
   "metadata": {},
   "source": [
    "**Exercice 1 - Interpolation linéaire pour un x unique**\n",
    "\n",
    "On vous demande de donner l'estimation du débit pour un niveau de 0.76 m en utilisant une interpolation linéaire. Stocker la valeur dans la variable `Qlin` et afficher la."
   ]
  },
  {
   "cell_type": "code",
   "execution_count": null,
   "metadata": {},
   "outputs": [],
   "source": []
  },
  {
   "cell_type": "markdown",
   "metadata": {},
   "source": [
    "**Exercice 2 - Interpolation pour un tableau de valeurs de x**\n",
    "\n",
    "On utilise l'interpolation fréquemment, et souvent sans même sans rendre compte, pour tracer des graphes. Dans ce cas, on donne en entrée de la fonction d'interpolation non pas une seule valeur de $x$ mais un tableau de valeurs de $x$.\n",
    "\n",
    "Dans cette question, on vous demande de créer un vecteur de 100 valeurs `xinterp` de niveau d'eau allant de 0 à 1.05 m (vous pouvez utiliser `np.linspace`). \n",
    "\n",
    "Puis utilisez la fonction d'interpolation linéaire pour calculer toutes les valeurs de débits correspondantes. Faites le graphe avec les mesures et les valeurs interpolées. "
   ]
  },
  {
   "cell_type": "code",
   "execution_count": null,
   "metadata": {},
   "outputs": [],
   "source": []
  },
  {
   "cell_type": "markdown",
   "metadata": {},
   "source": [
    "**Exercice 3 - Interpolation Spline cubique**\n",
    "\n",
    "Refaite le calcul du débit correspondant à une hauteur d'eau de 0.2 cm et comparer le résultat avec celui obtenu avec une interpolation linéaire. Commentez.\n",
    "\n",
    "Puis, refaite la figure avec cette fois-ci une interpolation de type spline cubique."
   ]
  },
  {
   "cell_type": "code",
   "execution_count": null,
   "metadata": {},
   "outputs": [],
   "source": []
  },
  {
   "cell_type": "markdown",
   "metadata": {},
   "source": [
    "**Observations :** "
   ]
  },
  {
   "cell_type": "markdown",
   "metadata": {},
   "source": [
    "**Exercice 4 - application à une chronique de données**\n",
    "\n",
    "Le fichier `source.txt` contient deux colonnes. La première est une date en nombre de jours depuis le début des mesures. La deuxième colonne contient le niveau d'eau en [m] mesuré chaque jour à la source.\n",
    "\n",
    "On vous demande de charger ces données, et de transformer tous les niveaux d'eau en débit puis de faire le graphe des débits en fonction du temps."
   ]
  },
  {
   "cell_type": "code",
   "execution_count": null,
   "metadata": {},
   "outputs": [],
   "source": []
  },
  {
   "cell_type": "code",
   "execution_count": null,
   "metadata": {},
   "outputs": [],
   "source": []
  },
  {
   "cell_type": "markdown",
   "metadata": {},
   "source": [
    "# Propriétés de l'eau\n",
    "\n",
    "On a réalisé une série d'expérience et mesuré avec précision la densité de l'eau [$kg/m^3$] et sa viscosité cinématique [$kg/m \\cdot s$] en fonction de la température de l'eau [deg Celsius]. Les données sont fournies dans le fichier `water.txt`. Chaque ligne correspond à une mesure, les colonnes sont dans l'ordre: température, densité, et viscosité. Pour des raisons pratiques, la mesure a été faite seulement pour un nombre limité de valeurs de température.\n",
    "\n",
    "**Exercice 5 - estimation des propriétés de l'eau**\n",
    "\n",
    "- Charger le fichier de données\n",
    "- Faire un ou des graphes pour représenter les données\n",
    "- Quelle est la densité de l'eau à 45 degrés Celsius ?\n",
    "- Quelle est la viscosité de l'eau quand sa densité est de 980 kg/m3 ?\n"
   ]
  },
  {
   "cell_type": "code",
   "execution_count": null,
   "metadata": {},
   "outputs": [],
   "source": []
  },
  {
   "cell_type": "code",
   "execution_count": null,
   "metadata": {},
   "outputs": [],
   "source": []
  },
  {
   "cell_type": "markdown",
   "metadata": {},
   "source": [
    "# Mise en concordance des pas de temps\n",
    "\n",
    "Souvent on prend des mesures avec des instruments différents, à des pas de temps différents. Mais on a besoin de valeurs sur les même pas de temps pour faire des calculs.\n",
    "\n",
    "**Exercice 6 - Essai de pompage**\n",
    "\n",
    "Nous disposons de deux jeux de données. Le premier, dans le fichier `pression.txt` donne la pression mesurée dans un piézomètre chaque seconde pendant un essai de pompage. La pression dans le puits diminue à cause du pompage.\n",
    "\n",
    "Le deuxième fichier, `patm.txt`, donne la pression atmosphérique mesurée beaucoup moins fréquemment car elle varie plus lentement.\n",
    "\n",
    "Les deux fichier contiennent dans la première colonne le temps en seconde, et dans la deuxième colonne la pression en milibars. \n",
    "\n",
    "On vous demande de traiter ces données pour calculer la charge hydraulique $h$ et produire une figure montrant comment varie la charge en fonction du temps pendant le pompage.\n",
    "\n",
    "Pour calculer la charge hydraulique, vous devez faire le calcul suivant :\n",
    "$$h = \\frac{P-P_a}{\\rho g} + z$$\n",
    "avec $P$ la pression mesurée dans le piézomètre et $P_a$ la pression atmosphérique, $\\rho$ est la densité de l'eau et vaut $10^3$ et $g=9.81 m/s^2$ l'accélération de la pesanteur, et $z=450 m$ l'altitude du point de mesure."
   ]
  },
  {
   "cell_type": "code",
   "execution_count": null,
   "metadata": {},
   "outputs": [],
   "source": []
  }
 ],
 "metadata": {
  "kernelspec": {
   "display_name": "Python 3",
   "language": "python",
   "name": "python3"
  },
  "language_info": {
   "codemirror_mode": {
    "name": "ipython",
    "version": 3
   },
   "file_extension": ".py",
   "mimetype": "text/x-python",
   "name": "python",
   "nbconvert_exporter": "python",
   "pygments_lexer": "ipython3",
   "version": "3.8.8"
  }
 },
 "nbformat": 4,
 "nbformat_minor": 4
}
