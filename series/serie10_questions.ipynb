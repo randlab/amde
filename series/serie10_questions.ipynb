{
 "cells": [
  {
   "cell_type": "markdown",
   "metadata": {},
   "source": [
    "# Série 10 - Exercices - Questions\n",
    "\n",
    "L'identification de paramètres à partir de données est une des tâches très fréquentes en sciences. Suivant la nature du modèle, différentes méthodes doivent être employées.\n",
    "\n",
    "Le but de cette série d'exercice est de vous rendre capable d'appliquer les techniques de régression linéaires et non linéaire sur de vraies données."
   ]
  },
  {
   "cell_type": "markdown",
   "metadata": {},
   "source": [
    "**Exercice 1**  - Chercher la droite de régression\n",
    "\n",
    "Soit le jeu de donnée ci-dessous. \n",
    "\n",
    "**a)** Faire le graphe de $y$ en fonction de $x$ permettant de visualiser les points de données."
   ]
  },
  {
   "cell_type": "code",
   "execution_count": null,
   "metadata": {},
   "outputs": [],
   "source": [
    "import numpy as np\n",
    "import matplotlib.pyplot as plt\n",
    "\n",
    "x = np.array([4.5, 6., 7.5, 9., 10.5])\n",
    "y = np.array([20, 23, 24, 28, 32])\n"
   ]
  },
  {
   "cell_type": "markdown",
   "metadata": {},
   "source": [
    "**b)** Construisez la matrice dont la première colonne contient les valeurs de $x$ et la deuxième des 1.\n",
    "\n",
    "$${\\bf G} = \\left[ \\begin{array}{cc} 4.5 & 1\\\\ 6. & 1\\\\ 7.5  & 1\\\\ 9. & 1\\\\ 10.5 & 1\\end{array}\\right] $$"
   ]
  },
  {
   "cell_type": "code",
   "execution_count": null,
   "metadata": {},
   "outputs": [],
   "source": []
  },
  {
   "cell_type": "markdown",
   "metadata": {},
   "source": [
    "**c)** Estimer les paramètres de la droite avec\n",
    "\n",
    "$${\\bf p} = \\left( {\\bf G^T} {\\bf G} \\right) ^{-1} {\\bf G^T} {\\bf y}$$\n",
    "\n",
    "Puis faire le graphe pour comparer le modèle avec les données."
   ]
  },
  {
   "cell_type": "code",
   "execution_count": null,
   "metadata": {},
   "outputs": [],
   "source": []
  },
  {
   "cell_type": "markdown",
   "metadata": {},
   "source": [
    "**Exercice 2** - Ecrire une fonction qui encapsule vos calculs\n",
    "\n",
    "L'idée est que cette fonction vous permette d'analyser très rapidement n'importe quel jeu de donnée. \n",
    "Le prototype de la fonction est donné ci-dessous. Remplir la partie manquante, c'est à dire celle qui fait vraiment le calcul.\n",
    "\n",
    "Une fois la fonction programmée, vérifier que si vous l'appliquez aux données de l'exercice 2, elle donne les bons résultats."
   ]
  },
  {
   "cell_type": "code",
   "execution_count": null,
   "metadata": {},
   "outputs": [],
   "source": [
    "def fit_line(x,y):\n",
    "    \"\"\"\n",
    "    Computes the least-squares straight line on a data set,\n",
    "    and plots it with the data for rapid visual control.\n",
    "\n",
    "    Inputs:\n",
    "      x (numpy array): The X data values \n",
    "      y (numpy array): The Y data values\n",
    "\n",
    "    Returns:\n",
    "      p (numpy array): p=[a, b] Slope and intercept of the straight line  \n",
    "    \"\"\"\n",
    "        \n",
    "    return p"
   ]
  },
  {
   "cell_type": "code",
   "execution_count": null,
   "metadata": {},
   "outputs": [],
   "source": []
  },
  {
   "cell_type": "markdown",
   "metadata": {},
   "source": [
    "**Exercice 3** - Age du système solaire\n",
    "\n",
    "Le fichier `eucrites.txt` contient des données issues de l'analyse chimique de météorites (Eucrites) du système solaire. La première colonne contient le rapport isotopique 87Rb/86Sr des échantillons (87Rb est l'élèment père), alors que la deuxième colonne contient le rapport 87Sr/86Sr (avec 87Sr l'élément fils).\n",
    "\n",
    "A partir de la pente de la ligne passant à travers ces données, estimer un âge minimum pour le système solaire, sachant que la constante de décroissance radioactive pour ces données est estimée à \n",
    "\n",
    "$$\\lambda = 1.393 \\times 10^{-11} an^{-1}$$\n",
    "\n",
    "On vous rappelle aussi que l'âge  s'obtient en \n",
    "\n",
    "$$t =\\frac{ \\log( a + 1)}{\\lambda} $$\n",
    "\n",
    "avec $a$ la pente de la droite et log représente le logarithme népérien."
   ]
  },
  {
   "cell_type": "code",
   "execution_count": null,
   "metadata": {},
   "outputs": [],
   "source": []
  },
  {
   "cell_type": "markdown",
   "metadata": {},
   "source": [
    "**Exercice 4** - Polynôme d'ordre 2\n",
    "\n",
    "Recopier la fonction `fit_line` et renomer là en `fit_parabola`. Modifier son contenu pour qu'elle ajuste un polynome d'ordre 2 sur les données. \n",
    "\n",
    "Appliquez cette nouvelle fonction aux données du premier exercice. Combien vallent les paramètres ? Quelle est la valeur de l'erreur quadratique moyenne ? "
   ]
  },
  {
   "cell_type": "code",
   "execution_count": null,
   "metadata": {},
   "outputs": [],
   "source": []
  },
  {
   "cell_type": "markdown",
   "metadata": {},
   "source": [
    "**Exercice 5** - Altération de galets\n",
    "\n",
    "Une méthode assez étonnante pour dater des conglomérats consiste à mesurer l'épaisseur du halo d'altération autour de galets dans la roche. En effet, l'épaisseur de cette zone altérée dépend de la durée d'exposition à des conditions de surface et à la vitesse du processus d'altération. Il est possible de calibrer cette relation et de s'en servir comme méthode de datation.\n",
    "\n",
    "Le fichier `alteration_galet.txt` contient des données provenant de Nouvelle Zélande et permettant de calibrer cette relation pour cette région. Le fichier contient dans la première colonne l'épaisseur de la zone altérée en mm  et dans la deuxième colonne l'age en milliers d'années (kA).\n",
    "\n",
    "Charger les données, ajuster un polynôme d'ordre 2 sur ces données, et utiliser le résultat pour estimer l'age correspondant à une épaisseur de 3mm."
   ]
  },
  {
   "cell_type": "code",
   "execution_count": null,
   "metadata": {},
   "outputs": [],
   "source": []
  },
  {
   "cell_type": "markdown",
   "metadata": {},
   "source": [
    "**Exercice 6** - Régression non linéaire\n",
    "\n",
    "La cellule de calcul ci-dessous vous donne un jeu de donnée d'évolution d'une population de bactéries. On vous demande d'ajuster sur ces données un modéle utilisant l'équation logistique :\n",
    "\n",
    "$$ n(t) = \\frac{n_{max}}{1+c \\cdot \\exp(-rt)}$$\n",
    "avec \n",
    "$$ c = \\frac{n_{max}-n_0}{n_0}$$\n",
    "\n",
    "Quelles valeurs ont les paramètres obtenues ?"
   ]
  },
  {
   "cell_type": "code",
   "execution_count": null,
   "metadata": {},
   "outputs": [],
   "source": [
    "t = np.array((0.3,0.5,0.72,0.8,1,1.2,1.5,1.8,2,2.3,2.5,2.7,3)) # Temps en jours\n",
    "n = np.array((46, 70,  98, 110, 135, 157, 163, 166, 182, 170, 174,  167, 186)) # Nombres de bactéries"
   ]
  },
  {
   "cell_type": "code",
   "execution_count": null,
   "metadata": {},
   "outputs": [],
   "source": []
  }
 ],
 "metadata": {
  "kernelspec": {
   "display_name": "Python 3",
   "language": "python",
   "name": "python3"
  },
  "language_info": {
   "codemirror_mode": {
    "name": "ipython",
    "version": 3
   },
   "file_extension": ".py",
   "mimetype": "text/x-python",
   "name": "python",
   "nbconvert_exporter": "python",
   "pygments_lexer": "ipython3",
   "version": "3.8.8"
  }
 },
 "nbformat": 4,
 "nbformat_minor": 4
}
