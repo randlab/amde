{
 "cells": [
  {
   "cell_type": "markdown",
   "metadata": {},
   "source": [
    "# Vérification de connaissance - Série 1 - Solution\n",
    "\n",
    "Voici les solutions de la série 1 pour vous permettre de vérifier par vous même les solutions."
   ]
  },
  {
   "cell_type": "markdown",
   "metadata": {},
   "source": [
    "**Solution 1**\n",
    "\n",
    "1. Quelle touche ou combinaison de touches devez-vous utiliser pour exécuter une cellule dans un notebook jupyter ?\n",
    "\n",
    "    - `Shift - Enter` permet d'éxécuter et de passer à la cellule suivante. \n",
    "    - `Ctrl - Enter` permet d'éxécuter la cellule suivante et de rester sur la cellule.\n",
    "    \n",
    "    \n",
    "2. Quelle touche ou combinaison de touches devez-vous utiliser pour créer une cellule en dessous d'une cellule existante dans un notebook ?\n",
    "\n",
    "    - Il faut cliquer à gauche de la cellule courante pour la sélectionner et taper `b`\n",
    "    \n",
    "    \n",
    "3. Quelle touche ou combinaison de touches devez-vous utiliser pour effacer une cellule dans un notebook ?\n",
    "\n",
    "    - Il faut cliquer à gauche de la cellule à effacer pour la sélectionner et taper `x`\n",
    "    \n",
    "    \n",
    "4. Quelle est la commande magique permettant d'obtenir la liste des variables et objets actuellement stockés dans l'espace mémoire du notebook ?\n",
    "\n",
    "    - `%who` ou `%whos`"
   ]
  },
  {
   "cell_type": "markdown",
   "metadata": {},
   "source": [
    "**Solution 2** Créez un tableau numpy contenant les valeurs suivantes : \n",
    "\n",
    "$$ a = \\left[ \\begin{array}{ccc} 2 &  3  & 6 \\\\ 1 & 1 & 0 \\\\ 5 & 1 & 0 \\end{array}  \\right] $$\n",
    "\n",
    "$$ b = \\left[ \\begin{array}{ccc} 1 &  0  & -2 \\\\ -1 & 1 & 0 \\\\ 0 & 1 & 0 \\end{array}  \\right] $$\n",
    "\n",
    "Calculez le produit terme à terme de $a$ et $b$, puis le produit matriciel de $a$ et $b$"
   ]
  },
  {
   "cell_type": "code",
   "execution_count": 2,
   "metadata": {},
   "outputs": [
    {
     "name": "stdout",
     "output_type": "stream",
     "text": [
      "Le produit terme à terme de a et b est égal à :\n",
      "[[  2   0 -12]\n",
      " [ -1   1   0]\n",
      " [  0   1   0]]\n",
      "Le produit matriciel de a et b est égal à :\n",
      "[[ -1   9  -4]\n",
      " [  0   1  -2]\n",
      " [  4   1 -10]]\n",
      "On peut le calculer aussi avec @ :\n",
      "[[ -1   9  -4]\n",
      " [  0   1  -2]\n",
      " [  4   1 -10]]\n"
     ]
    }
   ],
   "source": [
    "import numpy as np\n",
    "\n",
    "a = np.array([ [2,3,6], [1,1,0], [5,1,0] ])\n",
    "b = np.array([ [1,0,-2], [-1,1,0], [0,1,0] ])\n",
    "\n",
    "print(\"Le produit terme à terme de a et b est égal à :\")\n",
    "print( a * b )\n",
    "\n",
    "print(\"Le produit matriciel de a et b est égal à :\")\n",
    "print( np.dot(a, b) )\n",
    "\n",
    "\n",
    "print(\"On peut le calculer aussi avec @ :\")\n",
    "print( a @ b) "
   ]
  },
  {
   "cell_type": "markdown",
   "metadata": {},
   "source": [
    "**Solution 3** Créez un tableau numpy contenant les valeurs suivantes : \n",
    "    \n",
    "$$ b = \\left[ \\begin{array}{ccccc} \n",
    "            1 & 1 & 2 & 3 & 1 \\\\ \n",
    "            1 & 1 & 2 & 3 & 1 \\\\ \n",
    "            1 & 1 & 2 & 3 & 1 \\\\ \n",
    "            1 & 1 & 2 & 3 & 1 \\\\ \n",
    "            1 & 1 & 2 & 3 & 1 \\\\ \n",
    "            1 & 1 & 2 & 3 & 1 \\\\ \n",
    "            0 & 0 & 0 & 0 & 0 \\\\             \n",
    "            \\end{array}  \\right] $$"
   ]
  },
  {
   "cell_type": "code",
   "execution_count": 2,
   "metadata": {},
   "outputs": [
    {
     "name": "stdout",
     "output_type": "stream",
     "text": [
      "[[1. 1. 2. 3. 1.]\n",
      " [1. 1. 2. 3. 1.]\n",
      " [1. 1. 2. 3. 1.]\n",
      " [1. 1. 2. 3. 1.]\n",
      " [1. 1. 2. 3. 1.]\n",
      " [1. 1. 2. 3. 1.]\n",
      " [0. 0. 0. 0. 0.]]\n"
     ]
    }
   ],
   "source": [
    "b = np.ones((7, 5))\n",
    "b[:,2] = 2\n",
    "b[:,3] = 3\n",
    "b[-1,:] = 0\n",
    "print( b )"
   ]
  },
  {
   "cell_type": "markdown",
   "metadata": {},
   "source": [
    "**Solution 4** La matrice $c$ est égale au produit entre la matrice transposée de $b$ et $b$. Faites le calcul, que vaut $c$ ?"
   ]
  },
  {
   "cell_type": "code",
   "execution_count": 4,
   "metadata": {},
   "outputs": [
    {
     "name": "stdout",
     "output_type": "stream",
     "text": [
      "[[ 6.  6. 12. 18.  6.]\n",
      " [ 6.  6. 12. 18.  6.]\n",
      " [12. 12. 24. 36. 12.]\n",
      " [18. 18. 36. 54. 18.]\n",
      " [ 6.  6. 12. 18.  6.]]\n"
     ]
    }
   ],
   "source": [
    "c = b.T @ b\n",
    "print( c )"
   ]
  },
  {
   "cell_type": "markdown",
   "metadata": {},
   "source": [
    "**Solution 5**. Créez un tableau unidimensionnel $x$ qui contient exactement 20 valeurs commençant à 0.3 et se terminant à 4 $\\pi$."
   ]
  },
  {
   "cell_type": "code",
   "execution_count": 5,
   "metadata": {},
   "outputs": [
    {
     "name": "stdout",
     "output_type": "stream",
     "text": [
      "[ 0.3         0.7229783   1.14595659  1.56893489  1.99191319  2.41489149\n",
      "  2.83786978  3.26084808  3.68382638  4.10680467  4.52978297  4.95276127\n",
      "  5.37573956  5.79871786  6.22169616  6.64467446  7.06765275  7.49063105\n",
      "  7.91360935  8.33658764  8.75956594  9.18254424  9.60552254 10.02850083\n",
      " 10.45147913 10.87445743 11.29743572 11.72041402 12.14339232 12.56637061]\n"
     ]
    }
   ],
   "source": [
    "x = np.linspace(0.3, 4*np.pi, 30)\n",
    "print(x)"
   ]
  },
  {
   "cell_type": "markdown",
   "metadata": {},
   "source": [
    "**Solution 6**. Créez un tableau bidimensionnel ou matrice $m$ qui contient :\n",
    "- dans sa première colonne les valeurs de $\\cos(x)$ \n",
    "- dans sa deuxième colonne les valeurs de $\\sin(x)$, \n",
    "- dans sa troisième colonne des 1\n",
    "\n",
    "avec $x$ le vecteur calculés dans la question précédente."
   ]
  },
  {
   "cell_type": "code",
   "execution_count": 6,
   "metadata": {},
   "outputs": [
    {
     "name": "stdout",
     "output_type": "stream",
     "text": [
      "[[ 9.55336489e-01  2.95520207e-01  1.00000000e+00]\n",
      " [ 7.49838554e-01  6.61620845e-01  1.00000000e+00]\n",
      " [ 4.12174767e-01  9.11104803e-01  1.00000000e+00]\n",
      " [ 1.86143458e-03  9.99998268e-01  1.00000000e+00]\n",
      " [-4.08779992e-01  9.12632959e-01  1.00000000e+00]\n",
      " [-7.47370234e-01  6.64407806e-01  1.00000000e+00]\n",
      " [-9.54229688e-01  2.99074745e-01  1.00000000e+00]\n",
      " [-9.92897495e-01 -1.18972954e-01  1.00000000e+00]\n",
      " [-8.56558105e-01 -5.16050591e-01  1.00000000e+00]\n",
      " [-5.69242573e-01 -8.22169626e-01  1.00000000e+00]\n",
      " [-1.81592869e-01 -9.83373800e-01  1.00000000e+00]\n",
      " [ 2.38064227e-01 -9.71249414e-01  1.00000000e+00]\n",
      " [ 6.15760341e-01 -7.87933501e-01  1.00000000e+00]\n",
      " [ 8.84923105e-01 -4.65737156e-01  1.00000000e+00]\n",
      " [ 9.98110138e-01 -6.14504083e-02  1.00000000e+00]\n",
      " [ 9.35371198e-01  3.53667532e-01  1.00000000e+00]\n",
      " [ 7.07764592e-01  7.06448358e-01  1.00000000e+00]\n",
      " [ 3.55408051e-01  9.34711248e-01  1.00000000e+00]\n",
      " [-5.95923851e-02  9.98222795e-01  1.00000000e+00]\n",
      " [-4.64089122e-01  8.85788511e-01  1.00000000e+00]\n",
      " [-7.86785939e-01  6.17225961e-01  1.00000000e+00]\n",
      " [-9.70804590e-01  2.39871731e-01  1.00000000e+00]\n",
      " [-9.83710119e-01 -1.79762068e-01  1.00000000e+00]\n",
      " [-8.23227809e-01 -5.67711172e-01  1.00000000e+00]\n",
      " [-5.17644124e-01 -8.55596027e-01  1.00000000e+00]\n",
      " [-1.20820962e-01 -9.92674315e-01  1.00000000e+00]\n",
      " [ 2.97297991e-01 -9.54784743e-01  1.00000000e+00]\n",
      " [ 6.63015474e-01 -7.48605691e-01  1.00000000e+00]\n",
      " [ 9.11870461e-01 -4.10478091e-01  1.00000000e+00]\n",
      " [ 1.00000000e+00 -4.89858720e-16  1.00000000e+00]]\n"
     ]
    }
   ],
   "source": [
    "m = np.ones( (len(x), 3) ) \n",
    "m[:,0] = np.cos( x )\n",
    "m[:,1] = np.sin( x )\n",
    "print( m )"
   ]
  },
  {
   "cell_type": "markdown",
   "metadata": {},
   "source": [
    "**Solution 7** La fonction ReLU peut se coder comme suit: "
   ]
  },
  {
   "cell_type": "code",
   "execution_count": 10,
   "metadata": {},
   "outputs": [],
   "source": [
    "def ReLU(x):\n",
    "    return np.maximum(x, 0)"
   ]
  },
  {
   "cell_type": "markdown",
   "metadata": {},
   "source": [
    "Sa dérivée est définie comme suit: \n",
    "\n",
    "$$\n",
    "ReLU´(x) =\n",
    "\\begin{cases}\n",
    "0 & \\text{for } x < 0 \\\\\n",
    "1 & \\text{for } x > 0\n",
    "\\end{cases}\n",
    "$$\n",
    "\n",
    "La fonction n´est pas dérivable en 0, mais par convention, on écrit $ReLU´(0) = 0$. On peut la coder comme suit:"
   ]
  },
  {
   "cell_type": "code",
   "execution_count": 12,
   "metadata": {},
   "outputs": [],
   "source": [
    "def deriv_ReLU(x):\n",
    "    return (x > 0).astype(int)"
   ]
  },
  {
   "cell_type": "code",
   "execution_count": 23,
   "metadata": {},
   "outputs": [
    {
     "data": {
      "text/plain": [
       "Text(0.5, 0, 'x')"
      ]
     },
     "execution_count": 23,
     "metadata": {},
     "output_type": "execute_result"
    },
    {
     "data": {
      "image/png": "[encoded data removed]",
      "text/plain": [
       "<Figure size 640x480 with 1 Axes>"
      ]
     },
     "metadata": {},
     "output_type": "display_data"
    }
   ],
   "source": [
    "# Graphe des deux fonctions. \n",
    "\n",
    "xi = np.arange(-1, 1, 0.01)\n",
    "\n",
    "plt.plot(xi, ReLU(xi), label = \"ReLU\")\n",
    "plt.plot(xi, deriv_ReLU(xi), color = \"C1\", label = \"ReLU´\")\n",
    "plt.legend()\n",
    "plt.xlabel(\"x\")\n"
   ]
  },
  {
   "cell_type": "markdown",
   "metadata": {},
   "source": [
    "**Solution 8**. Faire un graphe de la fonction \n",
    "$$f(x) = \\frac{x^3}{6}\\cdot \\cos\\left[ \\sin(x)\\right] \\cdot \\exp(-x) + \\left( \\frac{1}{1+x}\\right)^2 $$\n",
    "\n",
    "pour $x \\in [1,20]$"
   ]
  },
  {
   "cell_type": "code",
   "execution_count": 7,
   "metadata": {},
   "outputs": [
    {
     "data": {
      "image/png": "[encoded data removed]",
      "text/plain": [
       "<Figure size 432x288 with 1 Axes>"
      ]
     },
     "metadata": {
      "needs_background": "light"
     },
     "output_type": "display_data"
    }
   ],
   "source": [
    "x = np.linspace(1,20,100)\n",
    "fx = x**3 / 6 * np.cos( np.sin(x) ) * np.exp( -x ) + (1/(1+x))**2\n",
    "\n",
    "import matplotlib.pyplot as plt\n",
    "plt.plot(x,fx)\n",
    "plt.xlabel('x')\n",
    "plt.ylabel('f(x)')\n",
    "plt.show()"
   ]
  },
  {
   "cell_type": "code",
   "execution_count": 7,
   "metadata": {},
   "outputs": [],
   "source": [
    "from scipy.special import erf\n",
    "import matplotlib.pyplot as plt"
   ]
  },
  {
   "cell_type": "code",
   "execution_count": null,
   "metadata": {},
   "outputs": [],
   "source": []
  }
 ],
 "metadata": {
  "kernelspec": {
   "display_name": "Python 3 (ipykernel)",
   "language": "python",
   "name": "python3"
  },
  "language_info": {
   "codemirror_mode": {
    "name": "ipython",
    "version": 3
   },
   "file_extension": ".py",
   "mimetype": "text/x-python",
   "name": "python",
   "nbconvert_exporter": "python",
   "pygments_lexer": "ipython3",
   "version": "3.10.12"
  }
 },
 "nbformat": 4,
 "nbformat_minor": 4
}
