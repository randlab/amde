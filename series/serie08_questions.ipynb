{
 "cells": [
  {
   "cell_type": "markdown",
   "metadata": {},
   "source": [
    "# Série 8 - Exercices - Questions\n",
    "\n",
    "Le but de  cette série est de s'exercer à l'utilisation des techniques de calcul d'intervalle de confiance sur la moyenne et de les appliquer sur un cas pratique. Il s'agit d'analyser des données collectées au Groënland et en Antarctique pour essayer de déterminer si l'atmosphère se mélange de manière homogène à l'échelle globale de la terre ou pas.\n",
    "\n",
    "L'idée est que la neige et la glace contiennent des poussières ayant une taille de quelques microns. Ces poussières proviennent de différents processus (volcanismes, tempêtes de poussières, micro-météorites, pollution, etc.). Comme elles sont très petites et légères elle ne retombe pas naturellement.  Elle servent toutefois de nucléus pour la formation de la neige. \n",
    "\n",
    "Elles retournent donc au sol avec la neige et peuvent être incorporées dans de la glace dans les régions polaires. Si les courants atmosphériques mélangent de manière homogène l'atmosphère, on devrait trouver approximativement les mêmes quantités de poussières dans les échantillons en Antarctiques et Groënland. \n",
    "\n",
    "Pour étudier cette hypothèse, vous allez donc comparer les jeux de données collectés en Antarctique et au Groënland, et en particulier vous allez tenter de déterminer si les moyennes des concentrations en microparticules dans les neiges de ces deux régions sont semblables ou pas. \n"
   ]
  },
  {
   "cell_type": "markdown",
   "metadata": {},
   "source": [
    "# Chargement des données\n",
    "\n",
    "Le fichier `microparticles.txt` contient les données. La première colonne contient un code qui décrit le lieu de collecte de l'échantillon, 0 signifie \"Antarctique\", 1 signifie \"Groënland\". La deuxième colonne contient la teneur en microparticules en ppb pour chaque mesure.\n",
    "\n",
    "**Question 1** - Chargez les données. Calculer les moyennes pour les teneurs. Sont-elles identiques ? Qu'en pensez-vous, commentez ?"
   ]
  },
  {
   "cell_type": "code",
   "execution_count": null,
   "metadata": {},
   "outputs": [],
   "source": []
  },
  {
   "cell_type": "markdown",
   "metadata": {},
   "source": [
    "# Visualisation des données\n",
    "\n",
    "**Question 2** Pour mieux comprendre les données, faites un histogramme et un graphe de type boite à moustache pour les mesures en Antarctique et au Groënland et commentez vos observations."
   ]
  },
  {
   "cell_type": "code",
   "execution_count": null,
   "metadata": {},
   "outputs": [],
   "source": []
  },
  {
   "cell_type": "markdown",
   "metadata": {},
   "source": [
    "# Erreur standard sur la moyenne\n",
    "\n",
    "Pour y voir plus clair, nous devons estimer des intervalles de confiance sur la moyenne. \n",
    "\n",
    "**Question 3** - Calculer l'erreur standard sur la moyenne pour les deux jeux de données. Quels sont les intervalles de confiance ? "
   ]
  },
  {
   "cell_type": "code",
   "execution_count": null,
   "metadata": {},
   "outputs": [],
   "source": []
  },
  {
   "cell_type": "markdown",
   "metadata": {},
   "source": [
    "\n",
    "**Question 4** -Faire un graphe avec les moyennes et barres d'erreur pour montrer visuellement les intervales de confiance des deux jeux de données. Commentez le résultat. Quelle conclusion en tirez-vous ?"
   ]
  },
  {
   "cell_type": "code",
   "execution_count": null,
   "metadata": {},
   "outputs": [],
   "source": []
  },
  {
   "cell_type": "markdown",
   "metadata": {},
   "source": [
    "# Bootstrap\n",
    "\n",
    "**Question 5** - La conclusion ci-dessus est claire. Mais on vous demande  de vérifier si la même conclusion est obtenue en utilisant le bootstrap pour faire un calcul alternatif d'intervalle de confiance. Faites le calcul et comparez ? Commentaires ?\n",
    "\n"
   ]
  },
  {
   "cell_type": "code",
   "execution_count": null,
   "metadata": {},
   "outputs": [],
   "source": []
  }
 ],
 "metadata": {
  "kernelspec": {
   "display_name": "Python 3",
   "language": "python",
   "name": "python3"
  },
  "language_info": {
   "codemirror_mode": {
    "name": "ipython",
    "version": 3
   },
   "file_extension": ".py",
   "mimetype": "text/x-python",
   "name": "python",
   "nbconvert_exporter": "python",
   "pygments_lexer": "ipython3",
   "version": "3.8.3"
  }
 },
 "nbformat": 4,
 "nbformat_minor": 4
}
