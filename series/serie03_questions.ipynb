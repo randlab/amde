{
 "cells": [
  {
   "cell_type": "markdown",
   "metadata": {},
   "source": [
    "# Série 3 - Résolution numérique d'équations différentielles ordinaires\n",
    "\n",
    "Le but de cette série d'exercice est de comprendre et implémenter les **méthodes numériques d'Euler et Runge Kutta** pour résoudre des équations différentielles ordinaires. Dans cette série nous allons résoudre une équation dont la solution analytique est connue afin de pouvoir étudier la qualité de l'approximation numérique. Dans les cours suivants, nous employerons ces méthodes pour des cas plus complexes pour lesquels la solution analytique n'existe pas.\n"
   ]
  },
  {
   "cell_type": "markdown",
   "metadata": {},
   "source": [
    "# Population de bactéries\n",
    "\n",
    "On reprend l'exemple traité dans le cours \"Equations différentielles\" et on veut simuler l'évolution d'une population de Paramecium Caudatum  dans un environnement confiné. \n",
    "\n",
    "Notons, $n(t)$ le nombre de bactéries. Au temps initial, nous avons $n_0=5$ bactéries. \n",
    "Le taux de croissance est constant est égal à $r=2.3$ jour$^{-1}$ en condition optimale au début de l'expérience. L'environnement dans lequel l'expérience est réalisée contient des ressources limités et ne peut pas contenir plus de $n_{max}=375$ bactéries. \n",
    "\n",
    "Pour modéliser l'évolution de la population, on peut utiliser l'équation de Verhulst :\n",
    "\n",
    "$$\\frac{dn}{dt} = r \\cdot n(t) \\left( 1 - \\frac{n(t)}{n_{max}} \\right)$$\n",
    "\n",
    "La solution de cette équation est  connue, il s'agit de l'équation logistique :\n",
    "\n",
    "$$ n(t) = \\frac{n_{max}}{1+c \\cdot \\exp(-rt)}$$\n",
    "avec \n",
    "$$ c = \\frac{n_{max}-n_0}{n_0}$$"
   ]
  },
  {
   "cell_type": "markdown",
   "metadata": {},
   "source": [
    "**Exercice 1 - Préliminaire**\n",
    "\n",
    "Définissez les variables contenant les paramètres définissant la solution au problème : $n_0$, $r$, $nmax$, ainsi qu'une fonction permettant de calculer la solution analytique exacte donnée ci-dessus.\n",
    "\n",
    "Faite une figure représentant l'évolution du nombre de bactéries en fonction du temps sur une durée de 6 jours.\n"
   ]
  },
  {
   "cell_type": "code",
   "execution_count": null,
   "metadata": {},
   "outputs": [],
   "source": []
  },
  {
   "cell_type": "markdown",
   "metadata": {},
   "source": [
    "# Résolution numérique avec la méthode d'Euler\n",
    "\n",
    "Le principe de la méthode d'Euler est d'approximer la dérivée dans l'équation différentielle que l'on souhaite résoudre par un calcul d'accroissement entre deux temps proches $t$ et $t+\\delta t$. On approxime ainsi la dérivée par :\n",
    "\n",
    "$$\\frac{dn}{dt} \\approx \\frac{n(t+\\delta t)-n(t)}{\\delta t}\n",
    "$$\n",
    "\n",
    "L'étape suivante consiste à remplacer la dérivée dans l'équation que l'on recherche par l'approximation ci-dessus. Pour le cas des bactéries on obtient :\n",
    "\n",
    "$$\\frac{n(t+\\delta t)-n(t)}{\\delta t} = r \\cdot n (t) \\left( 1 - \\frac{n(t) }{n_{max}} \\right)$$\n",
    "\n",
    "Dans cette équation, notre objectif est d'estimer la valeur de $n(t+\\delta t)$ au pas de temps suivant, en connaissant la valeur au pas de temps précédent. On re-écrit donc l'équation précédente en isolant l'inconnue. On trouve :\n",
    " \n",
    "$$\\boxed{ n(t+\\delta t) = n(t) +\\delta t \\cdot r \\cdot n(t) \\left( 1 - \\frac{n(t) }{n_{max}} \\right) }$$\n",
    "\n",
    "Ainsi, en partant de la valeur initiale connue $n_0$, vous allez pouvoir calculer la valeur de $n$ à tous les pas de temps en appliquant itérativement la formule ci-dessus."
   ]
  },
  {
   "cell_type": "markdown",
   "metadata": {},
   "source": [
    "**Exercice 2 - résolution de l'équation de Verhust par la méthode d'Euler**\n",
    "\n",
    "Définissez tout d'abord un pas de temps petit. Par exemple, $dt = 0.0001$ jours.\n",
    "\n",
    "Calculer le nombre $nt$ de pas de temps nécessaires pour discrétiser le temps de $0$ à votre temps maximum (6 jours) avec un pas de $dt$.\n",
    "\n",
    "Résolvez ensuite l'équation de Verhulst avec la méthode d'Euler. Faite un graphe qui superpose le résultat obtenu avec cette méthode avec la solution analytique calculée dans l'exercice 1.\n",
    "\n",
    "Comment jugez-vous la qualité de l'approximation numérique ?"
   ]
  },
  {
   "cell_type": "code",
   "execution_count": null,
   "metadata": {},
   "outputs": [],
   "source": []
  },
  {
   "cell_type": "markdown",
   "metadata": {},
   "source": [
    "**Exercice 3** - Sensibilité au pas de temps \n",
    "\n",
    "Refaites exactement le même calcul avec un pas de temps de 0.5 jour. Que constatez-vous ? "
   ]
  },
  {
   "cell_type": "code",
   "execution_count": null,
   "metadata": {},
   "outputs": [],
   "source": []
  },
  {
   "cell_type": "markdown",
   "metadata": {},
   "source": [
    "# Résolution numérique avec la méthode de Runge-Kutta\n",
    "\n",
    "La méthode d'Euler est simple à implémenter mais nécessite de choisir un petit pas de temps pour être précise. Il est possible d'augmenter la précision de la résolution numérique en faisant une meilleur approximation de la dérivée. La méthode de Runge-Kutta à l'ordre 4 est très souvent employée car elle offre un gain de précision important tout en restant assez simple à programmer. Son principe consiste à approcher la dérivée en la calculant comme la moyenne pondérée de la dérivée estimée en 4 points différents comme expliqué dans le cours."
   ]
  },
  {
   "cell_type": "markdown",
   "metadata": {},
   "source": [
    "**Exercice 4** - Méthode de Runge-Kutta\n",
    "\n",
    "Faites une copie de votre code précédent dans la cellule ci-dessous afin de l'adapter pour qu'il résolve aussi la même équation par la méthode de Runge-Kutta. Comparer graphiquement les résultats pour un pas de temps de 0.5 jours. Qu'observervez-vous ? Modifiez le pas de temps en prenant les valeurs 1 jour, 0.7 jour, 0.4 jour, 0.1 jour, 0.01 jour) et refaites les calculs pour tester la sensibilité des deux méthodes. Qu'en concluez-vous ?"
   ]
  },
  {
   "cell_type": "code",
   "execution_count": null,
   "metadata": {},
   "outputs": [],
   "source": []
  }
 ],
 "metadata": {
  "kernelspec": {
   "display_name": "Python 3 (ipykernel)",
   "language": "python",
   "name": "python3"
  },
  "language_info": {
   "codemirror_mode": {
    "name": "ipython",
    "version": 3
   },
   "file_extension": ".py",
   "mimetype": "text/x-python",
   "name": "python",
   "nbconvert_exporter": "python",
   "pygments_lexer": "ipython3",
   "version": "3.9.13"
  }
 },
 "nbformat": 4,
 "nbformat_minor": 4
}
