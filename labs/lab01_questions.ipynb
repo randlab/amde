{
 "cells": [
  {
   "cell_type": "markdown",
   "metadata": {},
   "source": [
    "# Lab 1 - Conservation d'une population d'otaries\n",
    "\n",
    "Une organisation de conservation de la nature s'intéresse à une colonie d'otaries et souhaite que celle-ci atteigne environ 100 individus dans 20 ans sur une ile du Pacifique.  Comme les investissements pour la conservation de la nature sont rares et difficiles à obtenir, ceux-ci seront considérées comme gaspillées si l'action de conservation ne se déroule pas comme prévu, c'est à dire si la population globale est plus faible ou plus importante que celle initialement visée. \n",
    "\n",
    "Par conséquent, la question est de définir comment agir sur les paramètres démographiques de cette population afin d'atteindre la taille de population souhaitée en 20 ans. Cette question peut être reformulée en un problème de modélisation mathématique et de recherche de valeur d'un certain paramètre du modèle. En particulier, dans cet exemple on souhaite trouver la valeur du paramètre qui minimise la distance entre notre cible et la taille de la population simulée. \n",
    "\n",
    "Pour modéliser l'évolution de la population, nous supposons ici qu'il est possible de la représenter comme une population structurée par sous-groupes, actuellement composée de 11 petits de l'année, 9 juvéniles et 30 adultes. On note la matrice de transition $A$ ainsi :\n",
    "\n",
    "$$ A = \\left[ \\begin{array}\\\\ 0 & 0 & F \\\\ G_p & S_j & 0 \\\\ 0 & G_j & S_a \\end{array}  \\right]$$\n",
    "\n",
    "ave $G_p$ , $S_j$, $G_j$, $S_a$, et $F$ les probabilités de changement de groupe suivante :\n",
    "\n",
    "- $F=0.530$ : le taux de fécondité par individu adulte\n",
    "- $G_p=0.856$ : les petites otaries de l'année deviennent des juvéniles\n",
    "- $S_j=0.200$ : les juvéniles restent juvéniles\n",
    "- $G_j=0.389$ : les juvéniles deviennent des adultes\n",
    "- $S_a=0.645$ : les adultes restent adultes\n",
    "\n",
    "Les valeurs de ces paramètres ont été estimés sur des populations d'otaries dans des environnement similaires à celui de notre cas d'étude par Wielgus et al. [3].\n",
    "\n",
    "Pour cet exercice, on va s'intéresser uniquement au paramètre de fécondité et on souhaite trouver la valeur optimale de ce paramètre $F$ en supposant les autres constant. \n",
    "\n",
    "### Stratégie de résolution du problème\n",
    "\n",
    "On va résoudre le problème en le décomposant en deux sous-problèmes: \n",
    "- Le premier sous-problème est de concevoir un programme capable de prédire l'évolution de la population pour n'importe quelle valeur de $F$.\n",
    "- Le second sous-problème consiste à chercher la valeur de $F$ telle que la population atteint l'objectif recherché.\n",
    "\n",
    "\n",
    "L'objectif de cet exercice est de résoudre le premier sous-problème : simuler l'évolution de la population. Dans le deuxième exercice, la semaine prochaine, nous chercherons la valeur de $F$ optimale."
   ]
  },
  {
   "cell_type": "markdown",
   "metadata": {},
   "source": [
    "###  Partie 1) Simulation de l'évolution de la population\n",
    "\n",
    "**Question 1**. On vous demande d'utiliser le modèle conceptuel décrit ci-dessus pour estimer l'évolution de la population pour les 20 prochaines années sur la base des paramètres démographiques fournis.\n",
    "\n",
    "Les étapes de calcul sont les suivantes :\n",
    "- A) Créer la matrice de transition $A$ avec les paramètres démographiques données, et la valeur de $F$ choisie par l'utilisateur.\n",
    "- B) Initialiser le vecteur $N$ contenant le nombre d'individus dans chaque classe d'âge au début de la simulation.\n",
    "- C) Pour les années 1 à 20, mettre à jour le vecteur $N$ en calculant le produit $N = AN$.\n",
    "- D) Calculer la somme du nombre d'individus à chaque étapes et renvoyer le résultats.\n",
    "\n",
    "Que déduisez-vous de ce calcul ? \n",
    "\n",
    "**Remarque:** Utilisez la cellule ci-dessous pour commencer à répondre à la question. Vous pouvez créer autant de cellules supplémentaires que vous le souhaitez. Soyez conscient qu'il existe plusieurs façon de faire le calcul correctement. Essayez de réfléchir et de trouver la solution par vous même. C'est ainsi que l'on retient le mieux. Vous ferez peut-être des erreurs, mais c'est en faisant ces erreurs que l'on apprend.\n"
   ]
  },
  {
   "cell_type": "code",
   "execution_count": null,
   "metadata": {},
   "outputs": [],
   "source": []
  },
  {
   "cell_type": "markdown",
   "metadata": {},
   "source": [
    "**Question 2**. On souhaite maintenant étudier l'évolution de la population en fonction du taux de fécondité. Nous devrons donc répéter les même calculs avec différentes valeurs de $F$, on vous demande donc d'écrire une fonction en python qui respecte les spécifications suivantes :\n",
    "- Nom et syntaxe d'appel de la fonction  : `nt = popin20years( F )`\n",
    "- Entrées : `F` le taux de fécondité \n",
    "- Sortie : `nt` la population totale au bout de 20 ans.\n",
    "\n",
    "Pour créer cette fonction, vous pouvez copier le bout de code écrit pour répondre à la question 1, l'encapsuler dans une fonction et l'adapter pour prendre en compte la valeur de $F$ qui n'est pas connue à l'avance.\n",
    "\n",
    "Tester votre fonction en l'applicant pour la valeur de $F$ utilisée précédemment, vous devriez retrouver la même valeur que précédemment. Essayez de changer $F$ et vérifier que le résultat change.\n",
    "\n",
    "Comme précédemment, utilisez la cellule ci-dessous et rajoutez-en si vous le souhaitez pour coder votre solution. "
   ]
  },
  {
   "cell_type": "code",
   "execution_count": null,
   "metadata": {},
   "outputs": [],
   "source": []
  },
  {
   "cell_type": "markdown",
   "metadata": {},
   "source": [
    "**Question 3**. Faire un graphe représentant l'estimation de la population d'otaries dans 20 ans en fonction de valeurs de $F$ comprise entre 0.4 et 1.0. Que déduisez-vous de ce graphe ? Est-il possible de mettre en oeuvre la politique souhaitée par l'organisation de protection de la nature ?\n",
    "\n",
    "Utilisez la cellule ci-dessous pour répondre."
   ]
  },
  {
   "cell_type": "code",
   "execution_count": null,
   "metadata": {},
   "outputs": [],
   "source": []
  },
  {
   "cell_type": "markdown",
   "metadata": {},
   "source": [
    "###  Partie 2) Recherche du taux de fertilité optimal\n",
    "\n",
    "**Question 4**. Définir la fonction que vous souhaitez résoudre et utilisez une méthode de résolution d'équation non linéaire pour trouver le taux de fertilité optimal. Quelle valeur obtenez-vous ? Commentez votre résultat."
   ]
  },
  {
   "cell_type": "code",
   "execution_count": null,
   "metadata": {},
   "outputs": [],
   "source": []
  }
 ],
 "metadata": {
  "kernelspec": {
   "display_name": "Python 3",
   "language": "python",
   "name": "python3"
  },
  "language_info": {
   "codemirror_mode": {
    "name": "ipython",
    "version": 3
   },
   "file_extension": ".py",
   "mimetype": "text/x-python",
   "name": "python",
   "nbconvert_exporter": "python",
   "pygments_lexer": "ipython3",
   "version": "3.8.3"
  }
 },
 "nbformat": 4,
 "nbformat_minor": 4
}
